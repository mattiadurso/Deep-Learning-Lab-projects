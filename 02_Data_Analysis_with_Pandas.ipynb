{
 "cells": [
  {
   "cell_type": "markdown",
   "metadata": {
    "id": "q0AC9IsZdEEq"
   },
   "source": [
    "# Introduction: the Titanic Survivals dataset\n",
    "\n",
    "As seen in the previous practical lesson, Pandas is a library for data manipulation and analysis. In this lesson we'll use the functionalities of Pandas in order to analyze and clean up the data of the Titanic Survivals dataset."
   ]
  },
  {
   "cell_type": "code",
   "execution_count": 1,
   "metadata": {
    "id": "YeWcP1Gdc4eU"
   },
   "outputs": [
    {
     "name": "stdout",
     "output_type": "stream",
     "text": [
      "   PassengerId  Survived  Pclass  \\\n",
      "0            1         0       3   \n",
      "1            2         1       1   \n",
      "2            3         1       3   \n",
      "3            4         1       1   \n",
      "4            5         0       3   \n",
      "5            6         0       3   \n",
      "6            7         0       1   \n",
      "7            8         0       3   \n",
      "8            9         1       3   \n",
      "9           10         1       2   \n",
      "\n",
      "                                                Name     Sex   Age  SibSp  \\\n",
      "0                            Braund; Mr. Owen Harris    male  22.0      1   \n",
      "1  Cumings; Mrs. John Bradley (Florence Briggs Th...  female  38.0      1   \n",
      "2                             Heikkinen; Miss. Laina  female  26.0      0   \n",
      "3       Futrelle; Mrs. Jacques Heath (Lily May Peel)  female  35.0      1   \n",
      "4                           Allen; Mr. William Henry    male  35.0      0   \n",
      "5                                   Moran; Mr. James    male   NaN      0   \n",
      "6                            McCarthy; Mr. Timothy J    male  54.0      0   \n",
      "7                     Palsson; Master. Gosta Leonard    male   2.0      3   \n",
      "8  Johnson; Mrs. Oscar W (Elisabeth Vilhelmina Berg)  female  27.0      0   \n",
      "9                Nasser; Mrs. Nicholas (Adele Achem)  female  14.0      1   \n",
      "\n",
      "   Parch            Ticket     Fare Cabin Embarked  \n",
      "0      0         A/5 21171   7.2500   NaN        S  \n",
      "1      0          PC 17599  71.2833   C85        C  \n",
      "2      0  STON/O2. 3101282   7.9250   NaN        S  \n",
      "3      0            113803  53.1000  C123        S  \n",
      "4      0            373450   8.0500   NaN        S  \n",
      "5      0            330877   8.4583   NaN        Q  \n",
      "6      0             17463  51.8625   E46        S  \n",
      "7      1            349909  21.0750   NaN        S  \n",
      "8      2            347742  11.1333   NaN        S  \n",
      "9      0            237736  30.0708   NaN        C  \n"
     ]
    }
   ],
   "source": [
    "import pandas as pd\n",
    "import numpy as np\n",
    "\n",
    "df = pd.read_csv('http://ailab.uniud.it/wp-content/uploads/2020/10/titanic_survivals.csv', sep=',', index_col=None)  # Loading the dataset in a Pandas Dataframe\n",
    "print(df.head(10))  # Printing the first ten values of the dataset"
   ]
  },
  {
   "cell_type": "markdown",
   "metadata": {
    "id": "DEFUSyMOu2pf"
   },
   "source": [
    "By printing the name of the dataset columns we notice the dataset has twelve features, containing the following data: \n",
    "\n",
    "*   PassengerId: identifier of the passenger\n",
    "*   Survived: whether the passenger survived (1) or not (0)\n",
    "*   Pclass:\tticket class (1 = 1st, 2 = 2nd, 3 = 3rd class)\n",
    "*   Sex: sex of the passenger\n",
    "*   Age: age in years\n",
    "*   Sibsp: number of siblings/spouses aboard the Titanic\t\n",
    "*   Parch: number of parents/children aboard the Titanic\t\n",
    "*   Ticket: ticket number\n",
    "*   Fare: passenger fare\n",
    "*   Cabin: cabin number\n",
    "*   Embarked: port of Embarkation (C=Cherbourg, Q=Queenstown, S=Southampton)\n"
   ]
  },
  {
   "cell_type": "code",
   "execution_count": 2,
   "metadata": {
    "id": "73tgY6k0o1Dk"
   },
   "outputs": [
    {
     "name": "stdout",
     "output_type": "stream",
     "text": [
      "Index(['PassengerId', 'Survived', 'Pclass', 'Name', 'Sex', 'Age', 'SibSp',\n",
      "       'Parch', 'Ticket', 'Fare', 'Cabin', 'Embarked'],\n",
      "      dtype='object')\n"
     ]
    }
   ],
   "source": [
    "print(df.columns)"
   ]
  },
  {
   "cell_type": "markdown",
   "metadata": {
    "id": "8mz8p4_GxdGb"
   },
   "source": [
    "# Analyzing the features of the dataset\n",
    "\n",
    "Pandas provides a series of commands to analyze the statistics related with the columns of a dataframe. For instance, with the command *values* the user can print the values of a selected dataframe column:"
   ]
  },
  {
   "cell_type": "code",
   "execution_count": 3,
   "metadata": {
    "id": "LevsAJI13UXZ"
   },
   "outputs": [
    {
     "name": "stdout",
     "output_type": "stream",
     "text": [
      "[0 1 1 1 0 0 0 0 1 1]\n"
     ]
    }
   ],
   "source": [
    "name_of_the_passengers = df[\"Name\"].values\n",
    "name_of_the_passengers = df[\"Survived\"].values\n",
    "\n",
    "print(name_of_the_passengers[:10]) # Printing the names of the first 10 passengers"
   ]
  },
  {
   "cell_type": "markdown",
   "metadata": {
    "id": "T2_NzZwE0mib"
   },
   "source": [
    "Moreover, applying the commands *min()* and *max()* to the columns of a dataframe which contain numerical values allows us to see the minimal and maximal values of such columns. In case a column contains text data, *min()* and *max()* return the first and last values of the lexicographical order of the values in the column."
   ]
  },
  {
   "cell_type": "code",
   "execution_count": 4,
   "metadata": {
    "id": "SeiRP0ZR0mNG"
   },
   "outputs": [
    {
     "name": "stdout",
     "output_type": "stream",
     "text": [
      "Minimal value for column \"PassengerId\":1\n",
      "Maximal value for column \"PassengerId\":891\n",
      "Minimal value for column \"Name\":Abbing; Mr. Anthony\n",
      "Maximal value for column \"Name\":van Melkebeke; Mr. Philemon\n",
      "Minimal value for column \"Age\":0.42\n",
      "Maximal value for column \"Age\":80.0\n"
     ]
    }
   ],
   "source": [
    "min_val_passengerid = df[\"PassengerId\"].min()  # Calculating the minimal value of the feature \"PassengerID\"\n",
    "print(f\"Minimal value for column \\\"PassengerId\\\":{min_val_passengerid}\")\n",
    "max_val_passengerid = df[\"PassengerId\"].max()  # Calculating the maximal value of the feature \"PassengerID\"\n",
    "print(f\"Maximal value for column \\\"PassengerId\\\":{max_val_passengerid}\")\n",
    "\n",
    "min_val_name = df[\"Name\"].values.min()\n",
    "print(f\"Minimal value for column \\\"Name\\\":{min_val_name}\")\n",
    "max_val_name = df[\"Name\"].values.max()\n",
    "print(f\"Maximal value for column \\\"Name\\\":{max_val_name}\")\n",
    "\n",
    "min_val_age = df[\"Age\"].min()\n",
    "print(f\"Minimal value for column \\\"Age\\\":{min_val_age}\")\n",
    "max_val_age = df[\"Age\"].max()\n",
    "print(f\"Maximal value for column \\\"Age\\\":{max_val_age}\")"
   ]
  },
  {
   "cell_type": "markdown",
   "metadata": {
    "id": "cGE0qpQh3fHx"
   },
   "source": [
    "With the command *value_counts()* the user can print both the values of a feature and the number of occurrences of such values in the feature.\n",
    "Use *value_counts()* to print the values and the related number of occurrences of the feature \"Survived\":"
   ]
  },
  {
   "cell_type": "code",
   "execution_count": 5,
   "metadata": {
    "id": "cKMcWFGC398J"
   },
   "outputs": [
    {
     "name": "stdout",
     "output_type": "stream",
     "text": [
      "0    549\n",
      "1    342\n",
      "Name: Survived, dtype: int64\n"
     ]
    }
   ],
   "source": [
    "values = df[\"Survived\"].value_counts()\n",
    "\n",
    "print(values)"
   ]
  },
  {
   "cell_type": "markdown",
   "metadata": {
    "id": "93Fj1V024wlD"
   },
   "source": [
    "With *value_counts()* we now know that, of the 891 passengers contained in the dataset, only 342 survived while 549 died.\n",
    "\n",
    "Such statistics isn't very informative, so let's see how the number of survivors and of victims is distributed among men and women. In order to do so, we need to first select all the female and male passengers of the dataset and then use again the *value_counts()* function to count how many survived and how many didn't."
   ]
  },
  {
   "cell_type": "code",
   "execution_count": 6,
   "metadata": {
    "id": "Pjv70Jqq6DmB"
   },
   "outputs": [
    {
     "name": "stdout",
     "output_type": "stream",
     "text": [
      "     Survived     Sex\n",
      "1           1  female\n",
      "2           1  female\n",
      "3           1  female\n",
      "8           1  female\n",
      "9           1  female\n",
      "..        ...     ...\n",
      "880         1  female\n",
      "882         0  female\n",
      "885         0  female\n",
      "887         1  female\n",
      "888         0  female\n",
      "\n",
      "[314 rows x 2 columns]\n",
      "     Survived   Sex\n",
      "0           0  male\n",
      "4           0  male\n",
      "5           0  male\n",
      "6           0  male\n",
      "7           0  male\n",
      "..        ...   ...\n",
      "883         0  male\n",
      "884         0  male\n",
      "886         0  male\n",
      "889         1  male\n",
      "890         0  male\n",
      "\n",
      "[577 rows x 2 columns]\n"
     ]
    }
   ],
   "source": [
    "#value_counts() not works\n",
    "survived_passengers = df[[\"Survived\",\"Sex\"]]  # Selecting only the columns we need from the dataset\n",
    "\n",
    "survived_passengers_females = survived_passengers[survived_passengers[\"Sex\"] == \"female\"]  # Selecting the female passengers\n",
    "print(survived_passengers_females)\n",
    "#print(survived_passengers_females.value_counts())  # Counting the survived and dead female passengers\n",
    "\n",
    "survived_passengers_males = survived_passengers[survived_passengers[\"Sex\"] == \"male\"]\n",
    "print(survived_passengers_males)\n",
    "#print(survived_passengers_males.value_counts())  # Counting the survived and dead male passengers"
   ]
  },
  {
   "cell_type": "markdown",
   "metadata": {
    "id": "ryOs-fch8bPV"
   },
   "source": [
    "Now, let's visualize with *matplotlib* the data we just obtained in the last two examples."
   ]
  },
  {
   "cell_type": "code",
   "execution_count": 7,
   "metadata": {
    "id": "_AkEJA3k8agt"
   },
   "outputs": [
    {
     "data": {
      "text/plain": [
       "<matplotlib.legend.Legend at 0x11822c650>"
      ]
     },
     "execution_count": 7,
     "metadata": {},
     "output_type": "execute_result"
    }
   ],
   "source": [
    "import matplotlib.pyplot as plt\n",
    "\n",
    "data_to_visualize = survived_passengers\n",
    "labels = [\"Survived\", \"Died\"]\n",
    "\n",
    "women_survived =  survived_passengers_females[survived_passengers_females[\"Survived\"] == 1]# Selecting from survived_passengers_females only the female passengers that survived\n",
    "number_of_women_survived = len(women_survived)\n",
    "women_died =  survived_passengers_females[survived_passengers_females[\"Survived\"] == 0]# Counting from survived_passengers_females how many female passengers died\n",
    "number_of_women_died = len(women_died)\n",
    "\n",
    "men_survived =  survived_passengers_males[survived_passengers_males[\"Survived\"] == 1]# Selecting from survived_passengers_males only the male passengers that survived\n",
    "number_of_men_survived = len(men_survived)\n",
    "men_died = survived_passengers_males[survived_passengers_males[\"Survived\"] == 0]# Selecting from survived_passengers_males only the male passengers that died\n",
    "number_of_men_died = len(men_died)\n",
    "\n",
    "x = np.arange(len(labels))  # the label locations\n",
    "width = 0.4  # the width of the bars\n",
    "\n",
    "fig, ax = plt.subplots()\n",
    "rects1 = ax.bar(x - width/2, [number_of_men_survived, number_of_women_survived], width, label='Men')\n",
    "rects2 = ax.bar(x + width/2, [number_of_men_died, number_of_women_died], width, label='Women')\n",
    "\n",
    "# Add some text for labels, title and custom x-axis tick labels, etc.\n",
    "ax.set_ylabel('Passengers')\n",
    "ax.set_title('Survived and dead passengers by gender')\n",
    "ax.set_xticks(x)\n",
    "ax.set_xticklabels(labels)\n",
    "ax.legend()"
   ]
  },
  {
   "cell_type": "markdown",
   "metadata": {
    "id": "D2I1-EoKCp1E"
   },
   "source": [
    "Now, let's see the median and mean age of both the men and women that survived and died through the *median()* and *mean()* commands. Let's first see the ages of all the male and female passengers of the Titanic."
   ]
  },
  {
   "cell_type": "code",
   "execution_count": 8,
   "metadata": {
    "id": "JviR8PCKFjxR"
   },
   "outputs": [
    {
     "name": "stdout",
     "output_type": "stream",
     "text": [
      "1      38.0\n",
      "2      26.0\n",
      "3      35.0\n",
      "8      27.0\n",
      "9      14.0\n",
      "       ... \n",
      "880    25.0\n",
      "882    22.0\n",
      "885    39.0\n",
      "887    19.0\n",
      "888     NaN\n",
      "Name: Age, Length: 314, dtype: float64 \n",
      "\n",
      "0      22.0\n",
      "4      35.0\n",
      "5       NaN\n",
      "6      54.0\n",
      "7       2.0\n",
      "       ... \n",
      "883    28.0\n",
      "884    25.0\n",
      "886    27.0\n",
      "889    26.0\n",
      "890    32.0\n",
      "Name: Age, Length: 577, dtype: float64\n"
     ]
    }
   ],
   "source": [
    "female_passengers = df[df[\"Sex\"] == \"female\"]  # Selecting only the female passengers\n",
    "female_passengers_age = female_passengers[\"Age\"]  # Selecting the age of the female passengers\n",
    "print(female_passengers_age, \"\\n\")\n",
    "\n",
    "male_passengers =  df[df[\"Sex\"] == \"male\"]# Selecting only the male passengers\n",
    "male_passengers_age =  male_passengers[\"Age\"]# Selecting the age of the male passengers\n",
    "print(male_passengers_age)"
   ]
  },
  {
   "cell_type": "code",
   "execution_count": 9,
   "metadata": {},
   "outputs": [
    {
     "name": "stdout",
     "output_type": "stream",
     "text": [
      "Median age of the survived female passengers:28.84771573604061\n",
      "Median age of the female passengers that died:25.046875\n",
      "Median age of the survived male passengers:27.276021505376345\n",
      "Median age of the male passengers that died:31.618055555555557\n"
     ]
    }
   ],
   "source": [
    "passengers_survived = df[df[\"Survived\"] == 1]  # Selecting from the whole dataset only the survived passengers\n",
    "passengers_died = df[df[\"Survived\"] == 0]  # Selecting from the whole dataset only the passengers who died\n",
    "\n",
    "female_survived_passengers = passengers_survived[passengers_survived[\"Sex\"] == \"female\"] # Selecting only the female survived passengers\n",
    "female_dead_passengers =  passengers_died[passengers_died[\"Sex\"] == \"female\"]# Selecting only the female passengers that died\n",
    "\n",
    "male_survived_passengers = passengers_survived[passengers_survived[\"Sex\"] == \"male\"] # Selecting only the male survived passengers\n",
    "male_dead_passengers =  passengers_died[passengers_died[\"Sex\"] == \"male\"]# Selecting only the male passengers that died\n",
    "\n",
    "female_survived_passengers_age = female_survived_passengers[\"Age\"] # Selecting only the age of the female survived passengers\n",
    "female_dead_passengers_age =  female_dead_passengers[\"Age\"]# Selecting only the age of the female passengers that died\n",
    "\n",
    "male_survived_passengers_age =  male_survived_passengers[\"Age\"]# Selecting only the age of the female survived passengers\n",
    "male_dead_passengers_age =  male_dead_passengers[\"Age\"]# Selecting only the age of the male passengers that died\n",
    "\n",
    "median_age_survived_female_passengers = np.mean(female_survived_passengers_age)# Calulating the median age of the survived female passengers\n",
    "print(f\"Median age of the survived female passengers:{median_age_survived_female_passengers}\")\n",
    "median_age_dead_female_passengers = np.mean(female_dead_passengers_age)# Calulating the median age of the female passengers that died\n",
    "print(f\"Median age of the female passengers that died:{median_age_dead_female_passengers}\")\n",
    "\n",
    "median_age_survived_male_passengers = np.mean(male_survived_passengers_age)  # Calulating the median age of the survived male passengers\n",
    "print(f\"Median age of the survived male passengers:{median_age_survived_male_passengers}\")\n",
    "median_age_dead_male_passengers =  np.mean(male_dead_passengers_age) # Calulating the median age of the male passengers that died\n",
    "print(f\"Median age of the male passengers that died:{median_age_dead_male_passengers}\")"
   ]
  },
  {
   "cell_type": "markdown",
   "metadata": {
    "id": "K1EqPxj6ekLc"
   },
   "source": [
    "Now, let's try analyzing the percentage of survivals of the Titanic passengers depending on the port from which they embarked. Firstly, let's group the passengers by the port they embarked from using the function *groupby()*."
   ]
  },
  {
   "cell_type": "code",
   "execution_count": 18,
   "metadata": {
    "id": "m9at-UI3ewJj"
   },
   "outputs": [
    {
     "name": "stdout",
     "output_type": "stream",
     "text": [
      "     PassengerId  Survived  Pclass  \\\n",
      "1              2         1       1   \n",
      "9             10         1       2   \n",
      "19            20         1       3   \n",
      "26            27         0       3   \n",
      "30            31         0       1   \n",
      "..           ...       ...     ...   \n",
      "866          867         1       2   \n",
      "874          875         1       2   \n",
      "875          876         1       3   \n",
      "879          880         1       1   \n",
      "889          890         1       1   \n",
      "\n",
      "                                                  Name     Sex   Age  SibSp  \\\n",
      "1    Cumings; Mrs. John Bradley (Florence Briggs Th...  female  38.0      1   \n",
      "9                  Nasser; Mrs. Nicholas (Adele Achem)  female  14.0      1   \n",
      "19                             Masselmani; Mrs. Fatima  female   NaN      0   \n",
      "26                             Emir; Mr. Farred Chehab    male   NaN      0   \n",
      "30                            Uruchurtu; Don. Manuel E    male  40.0      0   \n",
      "..                                                 ...     ...   ...    ...   \n",
      "866                       Duran y More; Miss. Asuncion  female  27.0      1   \n",
      "874              Abelson; Mrs. Samuel (Hannah Wizosky)  female  28.0      1   \n",
      "875                     Najib; Miss. Adele Kiamie Jane  female  15.0      0   \n",
      "879      Potter; Mrs. Thomas Jr (Lily Alexenia Wilson)  female  56.0      0   \n",
      "889                              Behr; Mr. Karl Howell    male  26.0      0   \n",
      "\n",
      "     Parch         Ticket     Fare Cabin Embarked  \n",
      "1        0       PC 17599  71.2833   C85        C  \n",
      "9        0         237736  30.0708   NaN        C  \n",
      "19       0           2649   7.2250   NaN        C  \n",
      "26       0           2631   7.2250   NaN        C  \n",
      "30       0       PC 17601  27.7208   NaN        C  \n",
      "..     ...            ...      ...   ...      ...  \n",
      "866      0  SC/PARIS 2149  13.8583   NaN        C  \n",
      "874      0      P/PP 3381  24.0000   NaN        C  \n",
      "875      0           2667   7.2250   NaN        C  \n",
      "879      1          11767  83.1583   C50        C  \n",
      "889      0         111369  30.0000  C148        C  \n",
      "\n",
      "[168 rows x 12 columns]\n",
      "     PassengerId  Survived  Pclass                                  Name  \\\n",
      "5              6         0       3                      Moran; Mr. James   \n",
      "16            17         0       3                  Rice; Master. Eugene   \n",
      "22            23         1       3             McGowan; Miss. Anna Annie   \n",
      "28            29         1       3           O'Dwyer; Miss. Ellen Nellie   \n",
      "32            33         1       3              Glynn; Miss. Mary Agatha   \n",
      "..           ...       ...     ...                                   ...   \n",
      "790          791         0       3                Keane; Mr. Andrew Andy   \n",
      "825          826         0       3                       Flynn; Mr. John   \n",
      "828          829         1       3          McCormack; Mr. Thomas Joseph   \n",
      "885          886         0       3  Rice; Mrs. William (Margaret Norton)   \n",
      "890          891         0       3                   Dooley; Mr. Patrick   \n",
      "\n",
      "        Sex   Age  SibSp  Parch  Ticket     Fare Cabin Embarked  \n",
      "5      male   NaN      0      0  330877   8.4583   NaN        Q  \n",
      "16     male   2.0      4      1  382652  29.1250   NaN        Q  \n",
      "22   female  15.0      0      0  330923   8.0292   NaN        Q  \n",
      "28   female   NaN      0      0  330959   7.8792   NaN        Q  \n",
      "32   female   NaN      0      0  335677   7.7500   NaN        Q  \n",
      "..      ...   ...    ...    ...     ...      ...   ...      ...  \n",
      "790    male   NaN      0      0   12460   7.7500   NaN        Q  \n",
      "825    male   NaN      0      0  368323   6.9500   NaN        Q  \n",
      "828    male   NaN      0      0  367228   7.7500   NaN        Q  \n",
      "885  female  39.0      0      5  382652  29.1250   NaN        Q  \n",
      "890    male  32.0      0      0  370376   7.7500   NaN        Q  \n",
      "\n",
      "[77 rows x 12 columns]\n",
      "     PassengerId  Survived  Pclass  \\\n",
      "0              1         0       3   \n",
      "2              3         1       3   \n",
      "3              4         1       1   \n",
      "4              5         0       3   \n",
      "6              7         0       1   \n",
      "..           ...       ...     ...   \n",
      "883          884         0       2   \n",
      "884          885         0       3   \n",
      "886          887         0       2   \n",
      "887          888         1       1   \n",
      "888          889         0       3   \n",
      "\n",
      "                                             Name     Sex   Age  SibSp  Parch  \\\n",
      "0                         Braund; Mr. Owen Harris    male  22.0      1      0   \n",
      "2                          Heikkinen; Miss. Laina  female  26.0      0      0   \n",
      "3    Futrelle; Mrs. Jacques Heath (Lily May Peel)  female  35.0      1      0   \n",
      "4                        Allen; Mr. William Henry    male  35.0      0      0   \n",
      "6                         McCarthy; Mr. Timothy J    male  54.0      0      0   \n",
      "..                                            ...     ...   ...    ...    ...   \n",
      "883                 Banfield; Mr. Frederick James    male  28.0      0      0   \n",
      "884                        Sutehall; Mr. Henry Jr    male  25.0      0      0   \n",
      "886                         Montvila; Rev. Juozas    male  27.0      0      0   \n",
      "887                  Graham; Miss. Margaret Edith  female  19.0      0      0   \n",
      "888        Johnston; Miss. Catherine Helen Carrie  female   NaN      1      2   \n",
      "\n",
      "               Ticket     Fare Cabin Embarked  \n",
      "0           A/5 21171   7.2500   NaN        S  \n",
      "2    STON/O2. 3101282   7.9250   NaN        S  \n",
      "3              113803  53.1000  C123        S  \n",
      "4              373450   8.0500   NaN        S  \n",
      "6               17463  51.8625   E46        S  \n",
      "..                ...      ...   ...      ...  \n",
      "883  C.A./SOTON 34068  10.5000   NaN        S  \n",
      "884   SOTON/OQ 392076   7.0500   NaN        S  \n",
      "886            211536  13.0000   NaN        S  \n",
      "887            112053  30.0000   B42        S  \n",
      "888        W./C. 6607  23.4500   NaN        S  \n",
      "\n",
      "[644 rows x 12 columns]\n"
     ]
    }
   ],
   "source": [
    "groups_passengers_by_port = df.groupby(\"Embarked\")\n",
    "\n",
    "for key, item in groups_passengers_by_port:\n",
    "  group = groups_passengers_by_port.get_group(key)  # Getting the group\n",
    "  print(group)  # Printing each group by accessing them through their key"
   ]
  },
  {
   "cell_type": "markdown",
   "metadata": {
    "id": "RF-DXrcYfrIB"
   },
   "source": [
    "Secondly, let's calculate how many passengers died and survived for each group, and save such values in a corresponding dictionary."
   ]
  },
  {
   "cell_type": "code",
   "execution_count": 11,
   "metadata": {
    "id": "XzkvFpfxf3hw"
   },
   "outputs": [
    {
     "name": "stdout",
     "output_type": "stream",
     "text": [
      "Number of survived passengers embarked from Cherbourg: 93\n",
      "Number of passengers that died and embarked from Cherbourg: 75\n",
      "Number of survived passengers embarked from Queenstown: 30\n",
      "Number of passengers that died and embarked from Queenstown: 47\n",
      "Number of survived passengers embarked from Southampton: 217\n",
      "Number of passengers that died and embarked from Southampton: 427\n",
      "{'C': 75, 'Q': 47, 'S': 427}\n"
     ]
    }
   ],
   "source": [
    "survived_by_port = {}\n",
    "dead_by_port = {}\n",
    "\n",
    "full_name_ports = {\"C\":\"Cherbourg\", \"Q\":\"Queenstown\", \"S\":\"Southampton\"}  # Dictionary mapping the values in the dataset with the full names of the ports\n",
    "\n",
    "for key, item in groups_passengers_by_port:\n",
    "\n",
    "  full_name_port =  full_name_ports[key]# Getting the full name of the port by accessing to the dictionary\n",
    "\n",
    "  group =  groups_passengers_by_port.get_group(key)# Getting the group of passengers embarked from the currently selected port\n",
    "  \n",
    "  group_survived =  group[group[\"Survived\"]==1]# Getting the subset of survived passengers by group\n",
    "  survived_by_port[key] = len(group_survived)  # Getting the number of survived passengers by group\n",
    "\n",
    "  group_died =  group[group[\"Survived\"]==0]# Getting the subset of passengers that died by group\n",
    "  dead_by_port[key] = len(group_died) # Getting the number of passengers that died by group\n",
    "\n",
    "  print(f\"Number of survived passengers embarked from {full_name_port}: {survived_by_port[key]}\")\n",
    "  print(f\"Number of passengers that died and embarked from {full_name_port}: {dead_by_port[key]}\")\n",
    "print(dead_by_port)"
   ]
  },
  {
   "cell_type": "markdown",
   "metadata": {
    "id": "-e9AZvS6iq6m"
   },
   "source": [
    "Lastly, for each port we calculate the percentages of all the passengers that departed from there and then survived or died during the sinking of the Titanic."
   ]
  },
  {
   "cell_type": "code",
   "execution_count": 12,
   "metadata": {
    "id": "tsjQoj2diqS9"
   },
   "outputs": [
    {
     "name": "stdout",
     "output_type": "stream",
     "text": [
      "Percentage of passengers that departed from Cherbourg and survived: 55.00000000000001%\n",
      "Percentage of passengers that departed from Cherbourg and died: 45.0%\n",
      "\n",
      "Percentage of passengers that departed from Queenstown and survived: 39.0%\n",
      "Percentage of passengers that departed from Queenstown and died: 61.0%\n",
      "\n",
      "Percentage of passengers that departed from Southampton and survived: 34.0%\n",
      "Percentage of passengers that departed from Southampton and died: 66.0%\n",
      "\n"
     ]
    }
   ],
   "source": [
    "for embarkment_port in survived_by_port:\n",
    "\n",
    "  full_name_port = full_name_ports[embarkment_port]  # Getting the full name of the port, dict\n",
    "\n",
    "  number_of_survived = survived_by_port[embarkment_port] # Getting the number of survived passengers\n",
    "  number_of_dead =  dead_by_port[embarkment_port]# Getting the number of dead passengers\n",
    " \n",
    "  total_of_passengers_from_port = len(groups_passengers_by_port.get_group(embarkment_port))  # Getting the total of passengers departed from a port\n",
    "  percentage_of_survived = number_of_survived/total_of_passengers_from_port  # Getting the percentage of passengers departed from the same embarkment port that survived\n",
    "  percentage_of_dead = number_of_dead/total_of_passengers_from_port  # Getting the percentage of passengers departed from the same embarkment port that died\n",
    "\n",
    "  percentage_of_survived = round(percentage_of_survived, 2)  # Rounding the percentage\n",
    "  percentage_of_dead = round(percentage_of_dead, 2)\n",
    "\n",
    "  print(f\"Percentage of passengers that departed from {full_name_port} and survived: {100*percentage_of_survived}%\")\n",
    "  print(f\"Percentage of passengers that departed from {full_name_port} and died: {100*percentage_of_dead}%\\n\")"
   ]
  },
  {
   "cell_type": "markdown",
   "metadata": {
    "id": "C9anamX_oTQM"
   },
   "source": [
    "Through this calculations we now know that around the 55% of the passengers that departed from Cherbourg survived, while only the 39% and 34% of passengers that departed from respectively Queenstown and Southamptom survived."
   ]
  },
  {
   "cell_type": "markdown",
   "metadata": {
    "id": "zH8a-70S8R7c"
   },
   "source": [
    "But what if we want to enstablish whether or not there's a hidden association between the features of a dataset? To do so there's the the *corr* function of Pandas, which calculates the correlation between each pair of columns of the dataset. The default method use by *corr* to calculate the correlation is the Pearson's standard correlation coefficient, which has a value **between -1 and 1**.\n",
    "If the coefficient between two columns is 1 the two columns have a **perfect positive linear correlation**, while if it's -1 they have a **perfect negative linear correlation**; if the coefficient is 0 the two columns have **no correlation**."
   ]
  },
  {
   "cell_type": "code",
   "execution_count": 13,
   "metadata": {
    "id": "cIdcaq6nNbwt"
   },
   "outputs": [
    {
     "name": "stdout",
     "output_type": "stream",
     "text": [
      "             PassengerId  Survived    Pclass       Age     SibSp     Parch  \\\n",
      "PassengerId     1.000000 -0.005007 -0.035144  0.036847 -0.057527 -0.001652   \n",
      "Survived       -0.005007  1.000000 -0.338481 -0.077221 -0.035322  0.081629   \n",
      "Pclass         -0.035144 -0.338481  1.000000 -0.369226  0.083081  0.018443   \n",
      "Age             0.036847 -0.077221 -0.369226  1.000000 -0.308247 -0.189119   \n",
      "SibSp          -0.057527 -0.035322  0.083081 -0.308247  1.000000  0.414838   \n",
      "Parch          -0.001652  0.081629  0.018443 -0.189119  0.414838  1.000000   \n",
      "Fare            0.012658  0.257307 -0.549500  0.096067  0.159651  0.216225   \n",
      "\n",
      "                 Fare  \n",
      "PassengerId  0.012658  \n",
      "Survived     0.257307  \n",
      "Pclass      -0.549500  \n",
      "Age          0.096067  \n",
      "SibSp        0.159651  \n",
      "Parch        0.216225  \n",
      "Fare         1.000000  \n"
     ]
    }
   ],
   "source": [
    "correlations = df.corr() # Calculating the correlations between the columns of the dataset \n",
    "\n",
    "print(correlations)"
   ]
  },
  {
   "cell_type": "markdown",
   "metadata": {
    "id": "0u1V7fULPKX2"
   },
   "source": [
    "Typically when working with datasets the correlation is used in order to find out whether two features of the dataset have redundant data. If a pair of features have a very high correlation value (≥0.9 or ≤-0.9) one of the two features is dropped, because it doesn't add any information to that already contained in the other column. Now, let's find out if there are pairs of features in our dataset with a very high correlation with the *where* function of Pandas:"
   ]
  },
  {
   "cell_type": "code",
   "execution_count": 14,
   "metadata": {
    "id": "Ueqee9ZYQE7D"
   },
   "outputs": [
    {
     "name": "stdout",
     "output_type": "stream",
     "text": [
      "Correlations in column PassengerId:\n",
      "PassengerId    1.000000\n",
      "Survived      -0.005007\n",
      "Pclass        -0.035144\n",
      "Age            0.036847\n",
      "SibSp         -0.057527\n",
      "Parch         -0.001652\n",
      "Fare           0.012658\n",
      "Name: PassengerId, dtype: float64\n",
      "\n",
      "Correlations in column Survived:\n",
      "PassengerId   -0.005007\n",
      "Survived       1.000000\n",
      "Pclass        -0.338481\n",
      "Age           -0.077221\n",
      "SibSp         -0.035322\n",
      "Parch          0.081629\n",
      "Fare           0.257307\n",
      "Name: Survived, dtype: float64\n",
      "\n",
      "Correlations in column Pclass:\n",
      "PassengerId   -0.035144\n",
      "Survived      -0.338481\n",
      "Pclass         1.000000\n",
      "Age           -0.369226\n",
      "SibSp          0.083081\n",
      "Parch          0.018443\n",
      "Fare          -0.549500\n",
      "Name: Pclass, dtype: float64\n",
      "\n",
      "Correlations in column Age:\n",
      "PassengerId    0.036847\n",
      "Survived      -0.077221\n",
      "Pclass        -0.369226\n",
      "Age            1.000000\n",
      "SibSp         -0.308247\n",
      "Parch         -0.189119\n",
      "Fare           0.096067\n",
      "Name: Age, dtype: float64\n",
      "\n",
      "Correlations in column SibSp:\n",
      "PassengerId   -0.057527\n",
      "Survived      -0.035322\n",
      "Pclass         0.083081\n",
      "Age           -0.308247\n",
      "SibSp          1.000000\n",
      "Parch          0.414838\n",
      "Fare           0.159651\n",
      "Name: SibSp, dtype: float64\n",
      "\n",
      "Correlations in column Parch:\n",
      "PassengerId   -0.001652\n",
      "Survived       0.081629\n",
      "Pclass         0.018443\n",
      "Age           -0.189119\n",
      "SibSp          0.414838\n",
      "Parch          1.000000\n",
      "Fare           0.216225\n",
      "Name: Parch, dtype: float64\n",
      "\n",
      "Correlations in column Fare:\n",
      "PassengerId    0.012658\n",
      "Survived       0.257307\n",
      "Pclass        -0.549500\n",
      "Age            0.096067\n",
      "SibSp          0.159651\n",
      "Parch          0.216225\n",
      "Fare           1.000000\n",
      "Name: Fare, dtype: float64\n",
      "\n"
     ]
    }
   ],
   "source": [
    "for column in correlations.columns:\n",
    "  print(f\"Correlations in column {column}:\\n{correlations[column]}\\n\")"
   ]
  },
  {
   "cell_type": "markdown",
   "metadata": {
    "id": "KschfAbxZ5A3"
   },
   "source": [
    "As we can see, there are no pairs of columns with a particularly high correlation index."
   ]
  }
 ],
 "metadata": {
  "colab": {
   "collapsed_sections": [],
   "name": "02_Data_Analysis_with_Pandas.ipynb",
   "provenance": [],
   "toc_visible": true
  },
  "kernelspec": {
   "display_name": "Python 3",
   "language": "python",
   "name": "python3"
  },
  "language_info": {
   "codemirror_mode": {
    "name": "ipython",
    "version": 3
   },
   "file_extension": ".py",
   "mimetype": "text/x-python",
   "name": "python",
   "nbconvert_exporter": "python",
   "pygments_lexer": "ipython3",
   "version": "3.7.4"
  }
 },
 "nbformat": 4,
 "nbformat_minor": 1
}
