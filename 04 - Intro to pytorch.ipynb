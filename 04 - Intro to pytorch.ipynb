{
 "cells": [
  {
   "cell_type": "markdown",
   "metadata": {
    "id": "ddoGuPFFKTOc"
   },
   "source": [
    "# An intro to PyTorch\n",
    "\n",
    "At its core, PyTorch provides two main features:\n",
    "\n",
    "- An n-dimensional Tensor, similar to numpy but can run on GPUs\n",
    "- Automatic differentiation for building and training neural networks\n",
    "\n",
    "We will use a fully-connected ReLU network as our running example. The network will have a single hidden layer, and will be trained with gradient descent to fit random data by minimizing the Euclidean distance between the network output and the true output."
   ]
  },
  {
   "cell_type": "markdown",
   "metadata": {
    "id": "S_hXQPBhLo-d"
   },
   "source": [
    "**Scheme for the Architecture**\n",
    "\n",
    "```\n",
    "                   INPUT (x)                       LABELS (y)\n",
    "                 [ N x D_in ]                    [ N x D_out ]\n",
    "        +--------------------------+                   |\n",
    "         \\        Linear          /                    |\n",
    "          \\       Layer          /                     |\n",
    "           +--------------------+                      |\n",
    "                 [ N x H ]                             |\n",
    "           +--------------------+                      |\n",
    "           |       ReLu         |                      |\n",
    "           +--------------------+                      |\n",
    "                 [ N x H ]                             |\n",
    "           +--------------------+                      |\n",
    "          /       Linear         \\                     |\n",
    "         /        Layer           \\                    |\n",
    "        +--------------------------+                   |\n",
    "               [ N x D_out ]                           |\n",
    "             PREDICTION (y_pred)                       |\n",
    "                     |                                 |\n",
    "                     +----------->(loss_fn)<-----------+\n",
    "                                      |\n",
    "                                    LOSS\n",
    "\n",
    "```\n"
   ]
  },
  {
   "cell_type": "markdown",
   "metadata": {
    "id": "hI-BOzyBo1TZ"
   },
   "source": [
    "We will first implement it in numpy and then take a look at all the features in PyTorch which make its implementation easier and more efficient.\n",
    "\n",
    "In the end you will be prompted to create a variation of this architecture and your own and train it!"
   ]
  },
  {
   "cell_type": "markdown",
   "metadata": {
    "id": "oiRNbu0WKa-Q"
   },
   "source": [
    "<a name=\"outline\"></a>\n",
    "## Outline\n",
    "- [1) Warm-up: numpy](#1)\n",
    "- [2) PyTorch: Tensors](#2)\n",
    "- [3) PyTorch: Autograd](#3)\n",
    "- [4) PyTorch: nn](#4)\n",
    "- [5) PyTorch: optim](#5)\n",
    "- [6) Custom nn Modules](#6)\n",
    "- [7) Control Flow + Weight Sharing [Exercise]](#7)"
   ]
  },
  {
   "cell_type": "markdown",
   "metadata": {
    "id": "fXLh8EOOKTOd"
   },
   "source": [
    "## 1) Warm-up: numpy\n",
    "<a name=\"1\"></a>\n",
    "[back to Outline](#outline)\n",
    "\n",
    "Before introducing PyTorch, we will first implement the neural network using numpy.\n",
    "\n",
    "Numpy provides an n-dimensional array object, and many functions for manipulating these arrays.\n",
    "\n",
    "Numpy is a generic framework for scientific computing; it does not know anything about computation graphs, or deep learning, or gradients.\n",
    "\n",
    "However we can easily use numpy to fit a two-layer network to random data by manually implementing the forward and backward passes through the network using numpy operations:"
   ]
  },
  {
   "cell_type": "code",
   "execution_count": 2,
   "metadata": {
    "id": "Oa-ZXRhNKTOe"
   },
   "outputs": [],
   "source": [
    "import numpy as np\n",
    "import pandas as pd\n",
    "\n",
    "loss_df = pd.DataFrame(index=list(range(500)), columns=[\"loss\"])\n",
    "\n",
    "# N is batch size; D_in is input dimension;\n",
    "# H is hidden dimension; D_out is output dimension.\n",
    "N, D_in, H, D_out = 64, 1000, 100, 10\n",
    "\n",
    "# Create random input and output data\n",
    "x = np.random.randn(N, D_in)\n",
    "y = np.random.randn(N, D_out)\n",
    "\n",
    "# Randomly initialize weights\n",
    "w1 = np.random.randn(D_in, H)\n",
    "w2 = np.random.randn(H, D_out)\n",
    "\n",
    "learning_rate = 1e-6\n",
    "for epoch in range(500):\n",
    "    # Forward pass: compute predicted y\n",
    "    h = x.dot(w1)\n",
    "    h_relu = np.maximum(h, 0)\n",
    "    y_pred = h_relu.dot(w2)\n",
    "\n",
    "    # Compute and store loss\n",
    "    loss = np.square(y_pred - y).sum()\n",
    "    loss_df.at[epoch, \"loss\"] = loss\n",
    "\n",
    "    # Backprop to compute gradients of w1 and w2 with respect to loss\n",
    "    grad_y_pred = 2.0 * (y_pred - y)\n",
    "    grad_w2 = h_relu.T.dot(grad_y_pred)\n",
    "    grad_h_relu = grad_y_pred.dot(w2.T)\n",
    "    grad_h = grad_h_relu.copy()\n",
    "    grad_h[h < 0] = 0\n",
    "    grad_w1 = x.T.dot(grad_h)\n",
    "\n",
    "    # Update weights\n",
    "    w1 -= learning_rate * grad_w1\n",
    "    w2 -= learning_rate * grad_w2"
   ]
  },
  {
   "cell_type": "markdown",
   "metadata": {
    "id": "QVQfOWOWKTOj"
   },
   "source": [
    "Quick reminder: we can use `pandas` to quickly visualize the values of the loss during training."
   ]
  },
  {
   "cell_type": "code",
   "execution_count": 3,
   "metadata": {
    "id": "eBPsBXD_KTOl"
   },
   "outputs": [
    {
     "name": "stdout",
     "output_type": "stream",
     "text": [
      "            loss\n",
      "1    2.99389e+07\n",
      "2    3.01373e+07\n",
      "3    2.92171e+07\n",
      "497  1.02335e-07\n",
      "498  9.69849e-08\n",
      "499  9.19156e-08\n"
     ]
    },
    {
     "data": {
      "image/png": "[encoded data removed]",
      "text/plain": [
       "<Figure size 432x288 with 1 Axes>"
      ]
     },
     "metadata": {
      "needs_background": "light"
     },
     "output_type": "display_data"
    }
   ],
   "source": [
    "# print first three and last three values of the loss\n",
    "print(loss_df.iloc[[1,2,3, -3,-2,-1]])\n",
    "\n",
    "xs = loss_df.plot()\n",
    "_ = xs.set_ylabel(\"loss\")\n",
    "_ = xs.set_xlabel(\"epoch\")"
   ]
  },
  {
   "cell_type": "markdown",
   "metadata": {
    "id": "HdMnqFOGKTOu"
   },
   "source": [
    "## 2) PyTorch: Tensors\n",
    "<a name=\"2\"></a>\n",
    "[back to Outline](#outline)\n",
    "\n",
    "As you saw numpy is a great framework and we can implement a neural network with it... but it cannot utilize **GPUs** to accelerate its numerical computations. For modern deep neural networks, GPUs often provide speedups of **50x or greater**, so unfortunately numpy won't be enough for modern deep learning.\n",
    "\n",
    "Here we introduce the most fundamental PyTorch concept: the **Tensor**."
   ]
  },
  {
   "cell_type": "markdown",
   "metadata": {
    "id": "6rXkVKDLV_Wr"
   },
   "source": [
    "### Creating Tensors\n",
    "\n",
    "A PyTorch Tensor is conceptually identical to a numpy array: a Tensor is an n-dimensional array, and PyTorch provides many functions for operating on these Tensors.\n",
    "\n",
    "_Any computation you might want to perform with numpy can also be accomplished with PyTorch Tensors_. You should think of them as a generic tool for scientific computing."
   ]
  },
  {
   "cell_type": "code",
   "execution_count": 1,
   "metadata": {
    "id": "IrLZTCxUKTOv"
   },
   "outputs": [
    {
     "name": "stdout",
     "output_type": "stream",
     "text": [
      "tensor([[0.0000e+00, 1.4013e-45, 0.0000e+00],\n",
      "        [0.0000e+00, 0.0000e+00, 0.0000e+00],\n",
      "        [0.0000e+00, 0.0000e+00, 0.0000e+00],\n",
      "        [1.1614e-41, 0.0000e+00, 2.2369e+08],\n",
      "        [0.0000e+00, 0.0000e+00, 0.0000e+00]])\n"
     ]
    }
   ],
   "source": [
    "import torch\n",
    "\n",
    "# Here is a 5x3 matrix, uninitialized:\n",
    "# it does not contain definite known values before it is used\n",
    "\n",
    "x = torch.empty(5, 3)\n",
    "print(x)"
   ]
  },
  {
   "cell_type": "code",
   "execution_count": 5,
   "metadata": {
    "id": "ulymRv1LKTOz"
   },
   "outputs": [
    {
     "name": "stdout",
     "output_type": "stream",
     "text": [
      "tensor([[0.3543, 0.5612, 0.6486],\n",
      "        [0.4240, 0.6980, 0.9975],\n",
      "        [0.6176, 0.1099, 0.2249],\n",
      "        [0.5379, 0.4828, 0.5170],\n",
      "        [0.3960, 0.6877, 0.7253]])\n"
     ]
    }
   ],
   "source": [
    "# Construct a randomly initialized matrix\n",
    "\n",
    "x = torch.rand(5, 3)\n",
    "print(x)"
   ]
  },
  {
   "cell_type": "code",
   "execution_count": 6,
   "metadata": {
    "id": "8c-r8eKwKTO3"
   },
   "outputs": [
    {
     "name": "stdout",
     "output_type": "stream",
     "text": [
      "tensor([[0, 0, 0],\n",
      "        [0, 0, 0],\n",
      "        [0, 0, 0],\n",
      "        [0, 0, 0],\n",
      "        [0, 0, 0]])\n"
     ]
    }
   ],
   "source": [
    "# Construct a matrix filled zeros and of dtype long:\n",
    "\n",
    "x = torch.zeros(5, 3, dtype=torch.long)\n",
    "print(x)"
   ]
  },
  {
   "cell_type": "code",
   "execution_count": 7,
   "metadata": {
    "id": "-WKjyPR7KTO6"
   },
   "outputs": [
    {
     "name": "stdout",
     "output_type": "stream",
     "text": [
      "tensor([[1., 1.]])\n"
     ]
    }
   ],
   "source": [
    "# Create an array of all ones\n",
    "b = torch.ones((1,2))   \n",
    "print(b)"
   ]
  },
  {
   "cell_type": "code",
   "execution_count": 8,
   "metadata": {
    "id": "ObE11IMEKTO-"
   },
   "outputs": [
    {
     "name": "stdout",
     "output_type": "stream",
     "text": [
      "tensor([5.5000, 3.0000])\n"
     ]
    }
   ],
   "source": [
    "# Construct a tensor directly from data:\n",
    "\n",
    "x = torch.tensor([5.5, 3])\n",
    "print(x)"
   ]
  },
  {
   "cell_type": "code",
   "execution_count": 9,
   "metadata": {
    "id": "1BWDboZAKTPB"
   },
   "outputs": [
    {
     "name": "stdout",
     "output_type": "stream",
     "text": [
      "tensor([5.5000, 3.0000])\n",
      "tensor([1., 1.])\n"
     ]
    }
   ],
   "source": [
    "# you can use *_like(t) to create tensors of zeros/ones/random with the same shape of t\n",
    "\n",
    "b = torch.ones_like(x)\n",
    "print(x)\n",
    "print(b)"
   ]
  },
  {
   "cell_type": "code",
   "execution_count": 10,
   "metadata": {
    "id": "g9oh5Vu-KTPE"
   },
   "outputs": [
    {
     "name": "stdout",
     "output_type": "stream",
     "text": [
      "<class 'torch.Tensor'>\n",
      "tensor([[0., 0.],\n",
      "        [0., 0.],\n",
      "        [0., 0.]])\n",
      "<class 'numpy.ndarray'>\n",
      "[[0. 0.]\n",
      " [0. 0.]\n",
      " [0. 0.]]\n",
      "\n",
      "<class 'torch.Tensor'>\n",
      "tensor([[1., 1.],\n",
      "        [1., 1.],\n",
      "        [1., 1.]])\n",
      "<class 'numpy.ndarray'>\n",
      "[[1. 1.]\n",
      " [1. 1.]\n",
      " [1. 1.]]\n"
     ]
    }
   ],
   "source": [
    "# torch tensors can be converted into numpy arrays\n",
    "# and keep them connected\n",
    "\n",
    "x = torch.zeros(3,2)\n",
    "print(type(x)); print(x)\n",
    "\n",
    "y = x.numpy()\n",
    "print(type(y)); print(y)\n",
    "\n",
    "\n",
    "print()\n",
    "\n",
    "x += 1\n",
    "print(type(x)); print(x)\n",
    "print(type(y)); print(y)"
   ]
  },
  {
   "cell_type": "code",
   "execution_count": 11,
   "metadata": {
    "id": "I7-Bu_F6KTPG"
   },
   "outputs": [
    {
     "name": "stdout",
     "output_type": "stream",
     "text": [
      "tensor([[1., 1.],\n",
      "        [1., 1.],\n",
      "        [1., 1.]])\n",
      "\n",
      "[[2. 2.]\n",
      " [2. 2.]\n",
      " [2. 2.]]\n",
      "tensor([[2., 2.],\n",
      "        [2., 2.],\n",
      "        [2., 2.]])\n"
     ]
    }
   ],
   "source": [
    "# the same can be done the other way\n",
    "\n",
    "z = torch.from_numpy(y)\n",
    "print(z)\n",
    "print()\n",
    "\n",
    "y+=1\n",
    "\n",
    "print(y)\n",
    "print(z)"
   ]
  },
  {
   "cell_type": "code",
   "execution_count": 12,
   "metadata": {
    "id": "7wus1_9RKTPJ"
   },
   "outputs": [
    {
     "name": "stdout",
     "output_type": "stream",
     "text": [
      "tensor([[ 0.1417,  0.4522, -0.2078,  0.3465],\n",
      "        [ 1.1520,  0.3241,  1.5589, -0.3883],\n",
      "        [-2.8291, -0.2369, -0.4588,  0.6151],\n",
      "        [-0.6376,  1.7853,  0.7089, -1.4544]])\n",
      "torch.Size([4, 4]) \n",
      "\n",
      "\n",
      "tensor([ 0.1417,  0.4522, -0.2078,  0.3465,  1.1520,  0.3241,  1.5589, -0.3883,\n",
      "        -2.8291, -0.2369, -0.4588,  0.6151, -0.6376,  1.7853,  0.7089, -1.4544])\n",
      "torch.Size([16]) \n",
      "\n",
      "\n",
      "tensor([[ 0.1417,  0.4522, -0.2078,  0.3465,  1.1520,  0.3241,  1.5589, -0.3883],\n",
      "        [-2.8291, -0.2369, -0.4588,  0.6151, -0.6376,  1.7853,  0.7089, -1.4544]])\n",
      "torch.Size([2, 8])\n",
      "torch.Size([2, 8]) \n",
      "\n"
     ]
    }
   ],
   "source": [
    "# each tensor has a .size() (or .shape) and can be reshaped\n",
    "\n",
    "x = torch.randn(4, 4)\n",
    "y = x.view(16)\n",
    "z = x.view(-1, 8)  # the size -1 is inferred from other dimensions\n",
    "\n",
    "print(x)\n",
    "print(x.size(), \"\\n\")\n",
    "\n",
    "print()\n",
    "\n",
    "print(y)\n",
    "print(y.size(), \"\\n\")\n",
    "\n",
    "print()\n",
    "\n",
    "print(z)\n",
    "print(z.size())\n",
    "print(z.shape, \"\\n\")"
   ]
  },
  {
   "cell_type": "markdown",
   "metadata": {
    "id": "Wdt13e4CKTPM"
   },
   "source": [
    "### Tensors on the GPU\n",
    "\n",
    "However unlike numpy, PyTorch Tensors can utilize GPUs to accelerate their numeric computations. To run a PyTorch Tensor on GPU, you use the device argument when constructing a Tensor to place the Tensor on a GPU.\n",
    "\n",
    "Tensors can be moved onto any device using the `.to` method, or created directly onto any device using `device`.\n"
   ]
  },
  {
   "cell_type": "code",
   "execution_count": 13,
   "metadata": {
    "id": "_68w3xtlKTPN"
   },
   "outputs": [
    {
     "name": "stdout",
     "output_type": "stream",
     "text": [
      "Cuda not available\n"
     ]
    }
   ],
   "source": [
    "# We will use torch.device objects to move tensors in and out of GPU\n",
    "if torch.cuda.is_available():\n",
    "    print(\"Cuda available\")\n",
    "    device = torch.device(\"cuda\")          # a CUDA device object\n",
    "    y = torch.ones_like(x, device=device)  # directly create a tensor on GPU\n",
    "    x = x.to(device)                       # or just use strings .to(\"cuda\")\n",
    "    z = x + y\n",
    "    print(z)\n",
    "    print(z.to(\"cpu\", torch.double))       # .to can also change dtype together!\n",
    "else:\n",
    "    print(\"Cuda not available\")"
   ]
  },
  {
   "cell_type": "markdown",
   "metadata": {
    "id": "FDfi1b_vKTPQ"
   },
   "source": [
    "Here we use PyTorch Tensors to fit a two-layer network to random data. Like the numpy example above we manually implement the forward and backward passes through the network, using operations on PyTorch Tensors:"
   ]
  },
  {
   "cell_type": "code",
   "execution_count": 33,
   "metadata": {
    "id": "ORKcPctqKTPR"
   },
   "outputs": [
    {
     "name": "stdout",
     "output_type": "stream",
     "text": [
      "            loss\n",
      "1    2.81198e+07\n",
      "2    2.48444e+07\n",
      "3    2.03242e+07\n",
      "497  3.09069e-05\n",
      "498  3.05787e-05\n",
      "499  3.01044e-05\n"
     ]
    },
    {
     "data": {
      "image/png": "[encoded data removed]",
      "text/plain": [
       "<Figure size 432x288 with 1 Axes>"
      ]
     },
     "metadata": {
      "needs_background": "light"
     },
     "output_type": "display_data"
    }
   ],
   "source": [
    "import torch\n",
    "import pandas as pd\n",
    "\n",
    "loss_df = pd.DataFrame(index=list(range(500)), columns=[\"loss\"])\n",
    "\n",
    "device = torch.device('cpu')\n",
    "if torch.cuda.is_available():\n",
    "    device = torch.device('cuda') # Uncomment this to run on GPU\n",
    "\n",
    "# N is batch size; D_in is input dimension;\n",
    "# H is hidden dimension; D_out is output dimension.\n",
    "N, D_in, H, D_out = 64, 1000, 100, 10\n",
    "\n",
    "# Create random input and output data as tensors\n",
    "# directly on the currente device\n",
    "x =  torch.randn(N, D_in, device=device) # [BLANK]\n",
    "y = torch.randn(N, D_out, device=device) # [BLANK]\n",
    "\n",
    "# Randomly initialize weights as tensors\n",
    "w1 = torch.randn(D_in, H, device=device)  # [BLANK]\n",
    "w2 = torch.randn(H, D_out, device=device) # [BLANK]\n",
    "\n",
    "learning_rate = 1e-6\n",
    "for epoch in range(500):\n",
    "    # Forward pass: compute predicted y\n",
    "    h = x.mm(w1)\n",
    "    h_relu = h.clamp(min=0)\n",
    "    y_pred = h_relu.mm(w2)\n",
    "\n",
    "    # Compute and store loss; loss is a scalar, and is stored in a PyTorch Tensor\n",
    "    # of shape (); we can get its value as a Python number with loss.item().\n",
    "    loss = (y_pred - y).pow(2).sum()\n",
    "    loss_df.at[epoch, \"loss\"] = loss.item()\n",
    "\n",
    "    # Backprop to compute gradients of w1 and w2 with respect to loss\n",
    "    grad_y_pred = 2.0 * (y_pred - y)\n",
    "    grad_w2 = h_relu.t().mm(grad_y_pred)\n",
    "    grad_h_relu = grad_y_pred.mm(w2.t())\n",
    "    grad_h = grad_h_relu.clone()\n",
    "    grad_h[h < 0] = 0\n",
    "    grad_w1 = x.t().mm(grad_h)\n",
    "\n",
    "    # Update weights using gradient descent\n",
    "    w1 -= learning_rate * grad_w1  # [BLANK]\n",
    "    w2 -= learning_rate * grad_w2  # [BLANK]\n",
    "\n",
    "# print first three and last three values of the loss\n",
    "print(loss_df.iloc[[1,2,3, -3,-2,-1]])\n",
    "\n",
    "xs = loss_df.plot()\n",
    "_ = xs.set_ylabel(\"loss\")\n",
    "_ = xs.set_xlabel(\"epoch\")"
   ]
  },
  {
   "cell_type": "markdown",
   "metadata": {
    "id": "iICyMpjwKTPU"
   },
   "source": [
    "## 3) PyTorch: Autograd\n",
    "<a name=\"3\"></a>\n",
    "[back to Outline](#outline)\n",
    "\n",
    "In the above examples, we had to manually implement both the forward and backward passes of our neural network. Manually implementing the backward pass is not a big deal for a small two-layer network, but can quickly get very hairy for large complex networks.\n",
    "\n",
    "Thankfully, we can use **automatic differentiation** to automate the computation of backward passes in neural networks.\n",
    "\n",
    "The **autograd** package in PyTorch provides exactly this functionality. When using autograd, the forward pass of your network will define a **computational graph**.\n",
    "\n",
    "Nodes in the graph will be Tensors, and edges will be functions that produce output Tensors from input Tensors. Backpropagating through this graph then allows you to easily compute gradients.\n",
    "\n",
    "This sounds complicated, it's pretty simple to use in practice. If we want to compute gradients with respect to some Tensor, then we set `requires_grad=True` when constructing that Tensor.\n",
    "\n",
    "Any PyTorch operations on that Tensor will cause a computational graph to be constructed, allowing us to later perform backpropagation through the graph. If `x` is a Tensor with `requires_grad=True`, then after backpropagation `x.grad` will be another Tensor holding the gradient of `x` with respect to some scalar value."
   ]
  },
  {
   "cell_type": "markdown",
   "metadata": {
    "id": "JOFGfA63VDw9"
   },
   "source": [
    "### requires_grad and gradients\n",
    "\n",
    "Let's create a tensor and set `requires_grad=True` to track computation with it"
   ]
  },
  {
   "cell_type": "code",
   "execution_count": 15,
   "metadata": {
    "id": "RPIDHiM6KTPV"
   },
   "outputs": [
    {
     "name": "stdout",
     "output_type": "stream",
     "text": [
      "tensor([[1.]], requires_grad=True)\n"
     ]
    }
   ],
   "source": [
    "x = torch.ones(1, 1, requires_grad=True)\n",
    "print(x)"
   ]
  },
  {
   "cell_type": "markdown",
   "metadata": {
    "id": "PHvZocSxU8Cm"
   },
   "source": [
    "Let's do a tensor operation"
   ]
  },
  {
   "cell_type": "code",
   "execution_count": 16,
   "metadata": {
    "id": "mk-nUliUKTPZ"
   },
   "outputs": [
    {
     "name": "stdout",
     "output_type": "stream",
     "text": [
      "tensor([[3.]], grad_fn=<AddBackward0>)\n"
     ]
    }
   ],
   "source": [
    "y = x + 2\n",
    "print(y)"
   ]
  },
  {
   "cell_type": "markdown",
   "metadata": {
    "id": "Oe4Khs58KTPc"
   },
   "source": [
    "`y` was created as a result of an operation on a tensor which \"required grad\". So it has a `grad_fn`, and it requires grad too."
   ]
  },
  {
   "cell_type": "code",
   "execution_count": 17,
   "metadata": {
    "id": "nzF6ArubKTPc"
   },
   "outputs": [
    {
     "name": "stdout",
     "output_type": "stream",
     "text": [
      "<AddBackward0 object at 0x127557dd0>\n",
      "True\n"
     ]
    }
   ],
   "source": [
    "print(y.grad_fn)\n",
    "print(y.requires_grad)"
   ]
  },
  {
   "cell_type": "code",
   "execution_count": 18,
   "metadata": {
    "id": "M_5UNxicKTPf"
   },
   "outputs": [
    {
     "name": "stdout",
     "output_type": "stream",
     "text": [
      "tensor([[27.]], grad_fn=<PowBackward0>)\n"
     ]
    }
   ],
   "source": [
    "out = y ** 3\n",
    "print(out)"
   ]
  },
  {
   "cell_type": "markdown",
   "metadata": {
    "id": "a-P8kpIJKTPk"
   },
   "source": [
    "Let’s backprop now using `out.backward()` and check the gradients of the first input `x`."
   ]
  },
  {
   "cell_type": "code",
   "execution_count": 19,
   "metadata": {
    "id": "eYtw4nHjKTPm"
   },
   "outputs": [
    {
     "name": "stdout",
     "output_type": "stream",
     "text": [
      "tensor([[27.]])\n"
     ]
    }
   ],
   "source": [
    "out.backward()\n",
    "print(x.grad)"
   ]
  },
  {
   "cell_type": "markdown",
   "metadata": {
    "id": "-e4KD4o4KTPp"
   },
   "source": [
    "If we were to calculate the gradients by hand, we would have:\n",
    "\n",
    "$out = (x+2)^3$\n",
    "\n",
    "$\\frac{\\partial out}{\\partial x} = 3(x+2)^2$\n",
    "\n",
    "$\\frac{\\partial out}{\\partial x}\\bigr\\rvert_{x=1} = 3(1+2)^2 = 27$"
   ]
  },
  {
   "cell_type": "markdown",
   "metadata": {
    "id": "ISv3Q2_UKTPp"
   },
   "source": [
    "### Resetting the gradient\n",
    "\n",
    "Pay attention to the fact that **gradientes are not reset automatically** in pytorch, but they keep adding up.\n",
    "This is useful in some architectures.\n",
    "\n",
    "Notice the difference in the following three cases."
   ]
  },
  {
   "cell_type": "code",
   "execution_count": 20,
   "metadata": {
    "id": "PVeR0eyWKTPq"
   },
   "outputs": [
    {
     "name": "stdout",
     "output_type": "stream",
     "text": [
      "tensor([2.], requires_grad=True)\n",
      "4.0 gradient of x after 1 operation(s)\n",
      "8.0 gradient of x after 2 operation(s)\n",
      "12.0 gradient of x after 3 operation(s)\n",
      "-------------\n",
      "value of y.\n",
      "4.0\n",
      "gradient of x^2 accumulated 3 times.\n",
      "12.0\n"
     ]
    }
   ],
   "source": [
    "x = torch.tensor([2.], requires_grad=True)\n",
    "print(x)\n",
    "\n",
    "for i in range(3):\n",
    "    y = x**2\n",
    "    y.backward()\n",
    "    print(x.grad.item(), f\"gradient of x after {i+1} operation(s)\")\n",
    "print(\"-------------\")\n",
    "print(\"value of y.\")\n",
    "print(y.item())\n",
    "print(\"gradient of x^2 accumulated 3 times.\")\n",
    "print(x.grad.item())"
   ]
  },
  {
   "cell_type": "code",
   "execution_count": 21,
   "metadata": {
    "id": "ze7J1Q40KTPs"
   },
   "outputs": [
    {
     "name": "stdout",
     "output_type": "stream",
     "text": [
      "tensor([2.], requires_grad=True)\n",
      "-------------\n",
      "value of y.\n",
      "4.0\n",
      "gradient of x^2.\n",
      "4.0\n"
     ]
    }
   ],
   "source": [
    "x = torch.tensor([2.], requires_grad=True)\n",
    "print(x)\n",
    "\n",
    "for i in range(3):\n",
    "    y = x**2\n",
    "y.backward()\n",
    "print(\"-------------\")\n",
    "print(\"value of y.\")\n",
    "print(y.item())\n",
    "print(\"gradient of x^2.\")\n",
    "print(x.grad.item())"
   ]
  },
  {
   "cell_type": "code",
   "execution_count": 22,
   "metadata": {
    "id": "-W5IyaXmKTPx"
   },
   "outputs": [
    {
     "name": "stdout",
     "output_type": "stream",
     "text": [
      "tensor([2.], requires_grad=True)\n",
      "4.0 gradient of x after 1 operation(s)\n",
      "4.0 gradient of x after 2 operation(s)\n",
      "4.0 gradient of x after 3 operation(s)\n",
      "-------------\n",
      "value of y.\n",
      "4.0\n",
      "gradient of x^2.\n",
      "4.0\n"
     ]
    }
   ],
   "source": [
    "x = torch.tensor([2.], requires_grad=True)\n",
    "print(x)\n",
    "\n",
    "for i in range(3):\n",
    "    if x.grad:  # manually zeroing the gradient\n",
    "        x.grad.zero_()\n",
    "    y = x**2\n",
    "    y.backward()\n",
    "    print(x.grad.item(), f\"gradient of x after {i+1} operation(s)\")\n",
    "    \n",
    "print(\"-------------\")\n",
    "print(\"value of y.\")\n",
    "print(y.item())\n",
    "print(\"gradient of x^2.\")\n",
    "print(x.grad.item())"
   ]
  },
  {
   "cell_type": "markdown",
   "metadata": {
    "id": "OUQ8ZkG0KTP3"
   },
   "source": [
    "### Stop tracking the gradients\n",
    "\n",
    "Sometimes you may wish to _prevent PyTorch from building computational graphs_ when performing certain operations on Tensors with `requires_grad=True`. For example we usually don't want to backpropagate through the weight update steps when **testing** a neural network.\n",
    "\n",
    "In such scenarios we can use the `torch.no_grad()` context manager to prevent the construction of a computational graph.\n",
    "\n",
    "Or use `.detach()` to get a new Tensor with the same content but that does not require gradients:"
   ]
  },
  {
   "cell_type": "code",
   "execution_count": 23,
   "metadata": {
    "id": "_2LzCI9wKTP4"
   },
   "outputs": [
    {
     "name": "stdout",
     "output_type": "stream",
     "text": [
      "True\n",
      "True\n",
      "False\n"
     ]
    }
   ],
   "source": [
    "x = torch.ones(2,2,requires_grad=True)\n",
    "print(x.requires_grad)\n",
    "print((x ** 2).requires_grad)\n",
    "\n",
    "with torch.no_grad():\n",
    "    print((x ** 2).requires_grad)"
   ]
  },
  {
   "cell_type": "code",
   "execution_count": 24,
   "metadata": {
    "id": "xOlOuBV1KTP7"
   },
   "outputs": [
    {
     "name": "stdout",
     "output_type": "stream",
     "text": [
      "True\n",
      "False\n",
      "tensor(True)\n"
     ]
    }
   ],
   "source": [
    "x = torch.ones(2,2,requires_grad=True)\n",
    "print(x.requires_grad)\n",
    "y = x.detach()\n",
    "print(y.requires_grad)\n",
    "print(x.eq(y).all())"
   ]
  },
  {
   "cell_type": "markdown",
   "metadata": {
    "id": "E5kbPEyrKTP-"
   },
   "source": [
    "### Let's make the point\n",
    "\n",
    "This means that the lines of code that we previously used to manually compute the gradients...\n",
    "\n",
    "```python\n",
    "...\n",
    "    loss = [CODE TO CALCULATE LOSS]\n",
    "\n",
    "    # Backprop to compute gradients of w1 and w2 with respect to loss\n",
    "    grad_y_pred = 2.0 * (y_pred - y)\n",
    "    grad_w2 = h_relu.t().mm(grad_y_pred)\n",
    "    grad_h_relu = grad_y_pred.mm(w2.t())\n",
    "    grad_h = grad_h_relu.clone()\n",
    "    grad_h[h < 0] = 0\n",
    "    grad_w1 = x.t().mm(grad_h)\n",
    "...\n",
    "```\n",
    "\n",
    "... are no longer required, as the gradients are computed automatically by autograd and stored in the tensors themselves.\n",
    "\n",
    "We just need to **reset the gradients first, and then call the `.backward()` function** at each epoch.\n",
    "\n",
    "```python\n",
    "...\n",
    "    loss = [CODE TO CALCULATE LOSS]\n",
    "    \n",
    "    model.zero_grad()\n",
    "    loss.backward()\n",
    "...\n",
    "```"
   ]
  },
  {
   "cell_type": "markdown",
   "metadata": {
    "id": "jazyAClEKTP_"
   },
   "source": [
    "## 4) PyTorch: nn\n",
    "<a name=\"4\"></a>\n",
    "[back to Outline](#outline)\n",
    "\n",
    "Computational graphs and autograd are a very powerful paradigm for defining complex operators and automatically taking derivatives; however for large neural networks raw autograd can be a bit too low-level.\n",
    "\n",
    "When building neural networks we frequently think of arranging the computation into **layers**, some of which have **learnable parameters** which will be **optimized** during learning.\n",
    "\n",
    "In PyTorch, the **`nn` package** defines a set of Modules, which are roughly equivalent to neural network layers.\n",
    "A Module receives input Tensors and computes output Tensors, but may also hold internal state such as Tensors containing learnable parameters.\n",
    "\n",
    "The `nn` package also defines a set of useful **loss functions** that are commonly used when training neural networks."
   ]
  },
  {
   "cell_type": "markdown",
   "metadata": {
    "id": "Y6yxjm5tKTQA"
   },
   "source": [
    "### A Sequential model\n",
    "\n",
    "The modules we need to create the same neural network as before are:\n",
    "\n",
    "- `torch.nn.Linear(input_size, hidden_size)` (used twice)\n",
    "- `torch.nn.ReLu()`\n",
    "\n",
    "Layers can be concatenated to create a sequential model with little to no effort using\n",
    "\n",
    "`model = torch.nn.Sequential(layer_1, layer_2, ..., layer_n)`\n",
    "\n",
    "The loss function we used up until can be created using:\n",
    "\n",
    "- `torch.nn.MSELoss(reduction='sum')`"
   ]
  },
  {
   "cell_type": "markdown",
   "metadata": {
    "id": "tfKGQ9DuKTQA"
   },
   "source": [
    "Try and create:\n",
    "\n",
    "- a simple sequential model with the same architecture as the previous ones\n",
    "- a loss function as suggested in the explanation above\n",
    "- use the model to get predictions for an input `x` (a `N x D_in` matrix of ones)\n",
    "- use the loss function to compute the differenct between `preds` and `y` (loss functions take two arguments, in this order)\n",
    "\n",
    "Compare your results with the expected output below."
   ]
  },
  {
   "cell_type": "code",
   "execution_count": 25,
   "metadata": {
    "id": "W10mwXHFKTQA"
   },
   "outputs": [
    {
     "name": "stdout",
     "output_type": "stream",
     "text": [
      "Sequential(\n",
      "  (0): Linear(in_features=1000, out_features=100, bias=True)\n",
      "  (1): ReLU()\n",
      "  (2): Linear(in_features=100, out_features=5, bias=True)\n",
      ")\n",
      "MSELoss()\n",
      "tensor([[ 0.1848,  0.1407,  0.0075, -0.5831,  0.3746],\n",
      "        [ 0.1848,  0.1407,  0.0075, -0.5831,  0.3746],\n",
      "        [ 0.1848,  0.1407,  0.0075, -0.5831,  0.3746],\n",
      "        [ 0.1848,  0.1407,  0.0075, -0.5831,  0.3746],\n",
      "        [ 0.1848,  0.1407,  0.0075, -0.5831,  0.3746],\n",
      "        [ 0.1848,  0.1407,  0.0075, -0.5831,  0.3746],\n",
      "        [ 0.1848,  0.1407,  0.0075, -0.5831,  0.3746],\n",
      "        [ 0.1848,  0.1407,  0.0075, -0.5831,  0.3746],\n",
      "        [ 0.1848,  0.1407,  0.0075, -0.5831,  0.3746],\n",
      "        [ 0.1848,  0.1407,  0.0075, -0.5831,  0.3746]],\n",
      "       grad_fn=<AddmmBackward>)\n",
      "tensor(52.8523, grad_fn=<MseLossBackward>)\n"
     ]
    }
   ],
   "source": [
    "import torch\n",
    "import torch.nn as nn\n",
    "import numpy as np\n",
    "import random\n",
    "\n",
    "# fix random seed for reproducibility (hopefully)\n",
    "torch.manual_seed(123)\n",
    "torch.cuda.manual_seed(123)\n",
    "np.random.seed(123)\n",
    "random.seed(123)\n",
    "\n",
    "# N is batch size; D_in is input dimension;\n",
    "# H is hidden dimension; D_out is output dimension.\n",
    "N = 10 \n",
    "D_in = 1000\n",
    "H = 100\n",
    "D_out = 5\n",
    "\n",
    "# Create Tensors of ONES to hold inputs and outputs\n",
    "x = torch.ones(N, D_in)\n",
    "y = torch.ones(N, D_out)\n",
    "\n",
    "# Create a Sequential model with the same architecture\n",
    "# as the previous ones (see image at the beginning of the notebook)\n",
    "# Move it to the current device using .to(device)\n",
    "# as you would to with a Tensor\n",
    "model = torch.nn.Sequential(\n",
    "        nn.Linear(D_in,H), \n",
    "        nn.ReLU(), \n",
    "        nn.Linear(H,D_out)).to(device)  # [BLANK]\n",
    "\n",
    "# Create the loss function\n",
    "loss_fn = torch.nn.MSELoss(reduction='sum')  # [BLANK]\n",
    "# Get the predictions from the model:\n",
    "# just use it as a function, passing x as the input\n",
    "preds = model(x)  # [BLANK]\n",
    "# Calculate the loss\n",
    "loss = loss_fn(preds, y)  # [BLANK]\n",
    "\n",
    "print(model)\n",
    "print(loss_fn)\n",
    "print(preds)\n",
    "print(loss)"
   ]
  },
  {
   "cell_type": "markdown",
   "metadata": {
    "id": "-GpxeGUiKTQE"
   },
   "source": [
    "**Expected output:**\n",
    "\n",
    "```python\n",
    "Sequential(\n",
    "  (0): Linear(in_features=1000, out_features=100, bias=True)\n",
    "  (1): ReLU()\n",
    "  (2): Linear(in_features=100, out_features=5, bias=True)\n",
    ")\n",
    "MSELoss()\n",
    "tensor([[ 0.1848,  0.1407,  0.0075, -0.5831,  0.3746],\n",
    "        [ 0.1848,  0.1407,  0.0075, -0.5831,  0.3746],\n",
    "        [ 0.1848,  0.1407,  0.0075, -0.5831,  0.3746],\n",
    "        [ 0.1848,  0.1407,  0.0075, -0.5831,  0.3746],\n",
    "        [ 0.1848,  0.1407,  0.0075, -0.5831,  0.3746],\n",
    "        [ 0.1848,  0.1407,  0.0075, -0.5831,  0.3746],\n",
    "        [ 0.1848,  0.1407,  0.0075, -0.5831,  0.3746],\n",
    "        [ 0.1848,  0.1407,  0.0075, -0.5831,  0.3746],\n",
    "        [ 0.1848,  0.1407,  0.0075, -0.5831,  0.3746],\n",
    "        [ 0.1848,  0.1407,  0.0075, -0.5831,  0.3746]],\n",
    "       grad_fn=<AddmmBackward>)\n",
    "tensor(52.8523, grad_fn=<MseLossBackward>)\n",
    "```"
   ]
  },
  {
   "cell_type": "markdown",
   "metadata": {
    "id": "wuPYj-o8KTQF"
   },
   "source": [
    "## 5) PyTorch: optim\n",
    "<a name=\"5\"></a>\n",
    "[back to Outline](#outline)\n",
    "\n",
    "Up to this point we have updated the weights of our models by manually mutating Tensors holding learnable parameters. This is not a huge burden for simple optimization algorithms like stochastic gradient descent, but in practice we often train neural networks using more sophisiticated optimizers like AdaGrad, RMSProp, Adam, etc.\n",
    "\n",
    "The **`optim` package** in PyTorch abstracts the idea of an optimization algorithm and provides implementations of commonly used optimization algorithms.\n",
    "\n",
    "In this example we will use the `nn` package to define our model as before, but we will optimize the model using the Adam algorithm provided by the `optim` package:"
   ]
  },
  {
   "cell_type": "code",
   "execution_count": 26,
   "metadata": {
    "id": "Ie_Ez6aQKTQF"
   },
   "outputs": [
    {
     "name": "stdout",
     "output_type": "stream",
     "text": [
      "          loss\n",
      "1      199.422\n",
      "2       177.67\n",
      "3      157.561\n",
      "497  0.0633041\n",
      "498  0.0621613\n",
      "499  0.0610339\n"
     ]
    },
    {
     "data": {
      "image/png": "[encoded data removed]",
      "text/plain": [
       "<Figure size 432x288 with 1 Axes>"
      ]
     },
     "metadata": {
      "needs_background": "light"
     },
     "output_type": "display_data"
    }
   ],
   "source": [
    "import torch\n",
    "import torch.nn as nn\n",
    "import pandas as pd\n",
    "\n",
    "loss_df = pd.DataFrame(index=list(range(500)), columns=[\"loss\"])\n",
    "\n",
    "device = torch.device('cpu')\n",
    "if torch.cuda.is_available():\n",
    "    device = torch.device('cuda') # Uncomment this to run on GPU\n",
    "\n",
    "# N is batch size; D_in is input dimension;\n",
    "# H is hidden dimension; D_out is output dimension.\n",
    "N, D_in, H, D_out = 64, 1000, 100, 10\n",
    "\n",
    "# Create RANDOM Tensors to hold inputs and outputs.\n",
    "x = torch.rand(N, D_in)  # [BLANK]\n",
    "y = torch.rand(N, D_out)  # [BLANK]\n",
    "\n",
    "# Use the nn package to define our model (Sequential) and loss function\n",
    "model = model = torch.nn.Sequential(\n",
    "        nn.Linear(D_in,H), \n",
    "        nn.ReLU(), \n",
    "        nn.Linear(H,D_out)).to(device)\n",
    "loss_fn = torch.nn.MSELoss(reduction='sum')  # [BLANK]\n",
    "\n",
    "\n",
    "# Use the optim package to define an Optimizer that will update the weights of\n",
    "# the model for us. Here we will use Adam; the optim package contains many other\n",
    "# optimization algorithms. The first argument to the Adam constructor tells the\n",
    "# optimizer which Tensors it should update.\n",
    "learning_rate = 1e-4\n",
    "optimizer = torch.optim.Adam(model.parameters(), lr=learning_rate)\n",
    "\n",
    "\n",
    "for epoch in range(500):\n",
    "    # Forward pass: compute predicted y by passing x to the model.\n",
    "    y_pred = model(x)  # [BLANK]\n",
    "\n",
    "    # Compute and print loss.\n",
    "    loss = loss_fn(y_pred, y)  # [BLANK]\n",
    "    loss_df.at[epoch, \"loss\"] = loss.item()\n",
    "\n",
    "    # Before the backward pass, use the optimizer object to zero all of the\n",
    "    # gradients for the Tensors it will update (which are the learnable weights\n",
    "    # of the model)\n",
    "    optimizer.zero_grad()\n",
    "\n",
    "    # Backward pass: compute gradient of the loss with respect to model parameters\n",
    "    loss.backward()  # [BLANK]\n",
    "\n",
    "    # Calling the step function on an Optimizer makes an update to its parameters\n",
    "    optimizer.step()\n",
    "    \n",
    "# print first three and last three values of the loss\n",
    "print(loss_df.iloc[[1,2,3, -3,-2,-1]])\n",
    "\n",
    "xs = loss_df.plot()\n",
    "_ = xs.set_ylabel(\"loss\")\n",
    "_ = xs.set_xlabel(\"epoch\")"
   ]
  },
  {
   "cell_type": "markdown",
   "metadata": {
    "id": "rbUZa2NAKTQH"
   },
   "source": [
    "## 6) Custom nn Modules\n",
    "<a name=\"6\"></a>\n",
    "[back to Outline](#outline)\n",
    "\n",
    "Sometimes you will want to specify models that are more **complex than a sequence of existing Modules**; for these cases you can define your own Modules by subclassing `nn.Module` and defining a `forward` which receives input Tensors and produces output Tensors using other modules or other autograd operations on Tensors.\n",
    "\n",
    "In this example we implement our two-layer network as a custom Module subclass:"
   ]
  },
  {
   "cell_type": "code",
   "execution_count": 27,
   "metadata": {
    "id": "n46JCeZ3KTQI"
   },
   "outputs": [
    {
     "data": {
      "text/plain": [
       "TwoLayerNet(\n",
       "  (linear1): Linear(in_features=1000, out_features=100, bias=True)\n",
       "  (linear2): Linear(in_features=100, out_features=10, bias=True)\n",
       "  (relu): ReLU()\n",
       ")"
      ]
     },
     "execution_count": 27,
     "metadata": {},
     "output_type": "execute_result"
    }
   ],
   "source": [
    "import torch\n",
    "import torch.nn as nn\n",
    "import pandas as pd\n",
    "\n",
    "class TwoLayerNet(torch.nn.Module):\n",
    "    def __init__(self, D_in, H, D_out):\n",
    "        \"\"\"\n",
    "        In the constructor we instantiate two nn.Linear modules and assign them as\n",
    "        member variables.\n",
    "        \"\"\"\n",
    "        super(TwoLayerNet, self).__init__()\n",
    "        self.linear1 = nn.Linear(D_in, H)  # [BLANK]\n",
    "        self.linear2 = nn.Linear(H, D_out)  # [BLANK]\n",
    "        self.relu = nn.ReLU()  # [BLANK]\n",
    "\n",
    "    def forward(self, x):\n",
    "        \"\"\"\n",
    "        In the forward function we accept a Tensor of input data and we must return\n",
    "        a Tensor of output data. We can use Modules defined in the constructor as\n",
    "        well as arbitrary (differentiable) operations on Tensors.\n",
    "        \"\"\"\n",
    "        hidden1 = self.linear1(x)\n",
    "        h_relu  = self.relu(hidden1)  # [BLANK]\n",
    "        y_pred  = self.linear2(h_relu)  # [BLANK]\n",
    "        return y_pred\n",
    "\n",
    "# Construct our model by instantiating the class defined above.\n",
    "model = TwoLayerNet(D_in, H, D_out)\n",
    "model"
   ]
  },
  {
   "cell_type": "markdown",
   "metadata": {
    "id": "8uzncKvLceDg"
   },
   "source": [
    "**Expected output:**\n",
    "\n",
    "```python\n",
    "TwoLayerNet(\n",
    "  (linear1): Linear(in_features=1000, out_features=100, bias=True)\n",
    "  (linear2): Linear(in_features=100, out_features=10, bias=True)\n",
    "  (relu): ReLU()\n",
    ")\n",
    "```\n",
    "\n"
   ]
  },
  {
   "cell_type": "code",
   "execution_count": 28,
   "metadata": {
    "id": "_L_r0mwOXO2V"
   },
   "outputs": [
    {
     "name": "stdout",
     "output_type": "stream",
     "text": [
      "            loss\n",
      "1        643.004\n",
      "2        597.683\n",
      "3        558.595\n",
      "497  5.87379e-06\n",
      "498  5.70722e-06\n",
      "499  5.54507e-06\n"
     ]
    },
    {
     "data": {
      "image/png": "[encoded data removed]",
      "text/plain": [
       "<Figure size 432x288 with 1 Axes>"
      ]
     },
     "metadata": {
      "needs_background": "light"
     },
     "output_type": "display_data"
    }
   ],
   "source": [
    "loss_df = pd.DataFrame(index=list(range(500)), columns=[\"loss\"])\n",
    "\n",
    "device = torch.device('cpu')\n",
    "if torch.cuda.is_available():\n",
    "    device = torch.device('cuda') # Uncomment this to run on GPU\n",
    "    \n",
    "# N is batch size; D_in is input dimension;\n",
    "# H is hidden dimension; D_out is output dimension.\n",
    "N, D_in, H, D_out = 64, 1000, 100, 10\n",
    "\n",
    "# Create random Tensors to hold inputs and outputs\n",
    "x = torch.randn(N, D_in)\n",
    "y = torch.randn(N, D_out)\n",
    "\n",
    "# Construct our loss function and an Optimizer. The call to model.parameters()\n",
    "# in the SGD constructor will contain the learnable parameters of the two\n",
    "# nn.Linear modules which are members of the model.\n",
    "learning_rate = 1e-4\n",
    "loss_fn = torch.nn.MSELoss(reduction='sum')  # [BLANK]\n",
    "optimizer = torch.optim.SGD(model.parameters(), lr=learning_rate)   # use the optim.SGD optimizer this time!\n",
    "\n",
    "for epoch in range(500):\n",
    "\n",
    "    y_pred = model(x)  # [BLANK]  # Forward pass: Compute predicted y by passing x to the model\n",
    "    loss = loss_fn(y_pred, y)  # [BLANK]    # Compute and print loss\n",
    "    \n",
    "    loss_df.at[epoch, \"loss\"] = loss.item()\n",
    "\n",
    "    optimizer.zero_grad()  # [BLANK]  # Zero gradients, \n",
    "    loss.backward()  # [BLANK]  # perform a backward pass,\n",
    "    optimizer.step()  # [BLANK]  # and update the weights.\n",
    "    \n",
    "\n",
    "print(loss_df.iloc[[1,2,3, -3,-2,-1]])\n",
    "xs = loss_df.plot()\n",
    "_ = xs.set_ylabel(\"loss\")\n",
    "_ = xs.set_xlabel(\"epoch\")"
   ]
  },
  {
   "cell_type": "markdown",
   "metadata": {
    "id": "Op1xpV-8KTQK"
   },
   "source": [
    "## 7) Control Flow + Weight Sharing [Exercise]\n",
    "<a name=\"7\"></a>\n",
    "[back to Outline](#outline)\n",
    "\n",
    "As an example of dynamic graphs and weight sharing, we implement a very strange model: a fully-connected ReLU network that on each forward pass chooses a random number between 1 and 4... and uses that many hidden layers! The hidden layers reuse the same weights multiple times to compute the innermost hidden representation.\n",
    "\n",
    "For this model you can use normal Python `for` loop and you can implement weight sharing among the innermost layers by simply reusing the same Module multiple times when defining the `forward` pass.\n",
    "\n",
    "Try it for yourself!"
   ]
  },
  {
   "cell_type": "markdown",
   "metadata": {
    "id": "k-dqX-wHny-S"
   },
   "source": [
    "**Scheme for the Architecture**\n",
    "\n",
    "It only needs 4 modules:\n",
    "- an `input_linear` layer to generate the first hidden representation\n",
    "- a `middle_linear` layer (which will be reused)\n",
    "- an `output_linear` layer to output the final prediction\n",
    "- a `relu` layer for all the needed activations\n",
    "\n",
    "```python\n",
    "                   INPUT (x)\n",
    "                 [ N x D_in ]\n",
    "        +--------------------------+\n",
    "         \\      Linear Layer      /\n",
    "          \\    \"input_linear\"    /\n",
    "           +-----[ N x H ]------+\n",
    "           |       ReLu         |\n",
    "           +--------------------+\n",
    "                 [ N x H ]\n",
    "       . . . . . . . . . . . . . . . .\n",
    "       .   +--------------------+    . this block is\n",
    "       .   |    Linear Layer    |    . randomly repeated\n",
    "       .   |   \"middle_linear\"  |    . from 0 to 3 times\n",
    "       .   +-----[ N x H ]------+    . to generate\n",
    "       .   |       ReLu         |    . from 1 to 4\n",
    "       .   +--------------------+    . hidden layers\n",
    "       . . . . . . . . . . . . . . . .\n",
    "                 [ N x H ]\n",
    "           +--------------------+    \n",
    "          /     Linear Layer     \\   \n",
    "         /     \"ouput_linear\"     \\      \n",
    "        +--------------------------+ \n",
    "               [ N x D_out ]      \n",
    "             PREDICTION (y_pred)  \n",
    "\n",
    "```\n"
   ]
  },
  {
   "cell_type": "code",
   "execution_count": 29,
   "metadata": {
    "id": "5RO5zAlFoJSK"
   },
   "outputs": [],
   "source": [
    "import random\n",
    "import torch\n",
    "import torch.nn as nn\n",
    "import pandas as pd\n",
    "\n",
    "class DynamicNet(torch.nn.Module):\n",
    "    def __init__(self, D_in, H, D_out):\n",
    "        super(DynamicNet,self).__init__() \n",
    "        \n",
    "        self.layers = nn.Sequential( \n",
    "            nn.Linear(D_in,H), \n",
    "            nn.ReLU(), \n",
    "            nn.Linear(H,D_out))\n",
    "\n",
    "    def forward(self, x):\n",
    "        y_pred = self.layers(x)  # [BLANK]\n",
    "        return y_pred\n"
   ]
  },
  {
   "cell_type": "code",
   "execution_count": 30,
   "metadata": {
    "id": "EEg950s3KTQK"
   },
   "outputs": [
    {
     "name": "stdout",
     "output_type": "stream",
     "text": [
      "            loss\n",
      "1        632.766\n",
      "2        550.182\n",
      "3        459.166\n",
      "497  2.47315e-12\n",
      "498  2.36447e-12\n",
      "499  2.40911e-12\n"
     ]
    },
    {
     "data": {
      "image/png": "[encoded data removed]",
      "text/plain": [
       "<Figure size 432x288 with 1 Axes>"
      ]
     },
     "metadata": {
      "needs_background": "light"
     },
     "output_type": "display_data"
    }
   ],
   "source": [
    "loss_df = pd.DataFrame(index=list(range(500)), columns=[\"loss\"])\n",
    "\n",
    "device = torch.device('cpu')\n",
    "if torch.cuda.is_available():\n",
    "    device = torch.device('cuda') # Uncomment this to run on GPU\n",
    "    \n",
    "# N is batch size; D_in is input dimension;\n",
    "# H is hidden dimension; D_out is output dimension.\n",
    "N, D_in, H, D_out = 64, 1000, 100, 10\n",
    "\n",
    "# Create random Tensors to hold inputs and outputs.\n",
    "x = torch.randn(N, D_in)\n",
    "y = torch.randn(N, D_out)\n",
    "\n",
    "# Construct our model by instantiating the class defined above\n",
    "model = DynamicNet(D_in, H, D_out)  # [BLANK]\n",
    "\n",
    "# Construct our loss function and an Optimizer. Training this strange model with\n",
    "# vanilla stochastic gradient descent is tough, so we use momentum\n",
    "criterion = torch.nn.MSELoss(reduction='sum')\n",
    "optimizer = torch.optim.SGD(model.parameters(), lr=1e-4, momentum=0.9)\n",
    "\n",
    "for epoch in range(500): # train your model!\n",
    "    y_pred = model(x)  # [BLANK]  # Forward pass: Compute predicted y by passing x to the model\n",
    "    loss = loss_fn(y_pred, y)  # [BLANK]    # Compute and print loss\n",
    "    loss_df.at[epoch, \"loss\"] = loss.item()\n",
    "\n",
    "    optimizer.zero_grad()  # [BLANK]  # Zero gradients, \n",
    "    loss.backward()  # [BLANK]  # perform a backward pass,\n",
    "    optimizer.step()  # [BLANK]\n",
    "\n",
    "# print first three and last three values of the loss\n",
    "print(loss_df.iloc[[1,2,3, -3,-2,-1]])\n",
    "\n",
    "xs = loss_df.plot()\n",
    "_ = xs.set_ylabel(\"loss\")\n",
    "_ = xs.set_xlabel(\"epoch\")"
   ]
  },
  {
   "cell_type": "code",
   "execution_count": null,
   "metadata": {},
   "outputs": [],
   "source": []
  }
 ],
 "metadata": {
  "colab": {
   "collapsed_sections": [],
   "name": "04 - Intro to pytorch.ipynb",
   "provenance": [],
   "toc_visible": true
  },
  "kernelspec": {
   "display_name": "Python 3",
   "language": "python",
   "name": "python3"
  },
  "language_info": {
   "codemirror_mode": {
    "name": "ipython",
    "version": 3
   },
   "file_extension": ".py",
   "mimetype": "text/x-python",
   "name": "python",
   "nbconvert_exporter": "python",
   "pygments_lexer": "ipython3",
   "version": "3.7.4"
  }
 },
 "nbformat": 4,
 "nbformat_minor": 1
}
