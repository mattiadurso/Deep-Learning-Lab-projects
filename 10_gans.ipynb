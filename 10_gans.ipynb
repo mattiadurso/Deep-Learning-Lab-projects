{
 "cells": [
  {
   "cell_type": "markdown",
   "metadata": {
    "id": "d2rmza982aG0"
   },
   "source": [
    "# Generative Adversarial Network (GANs)\n",
    "\n",
    "Generative Adversarial neural Networks (GANs) are a type of neural networks introduces Ian Goodfellow in his 2014 article [\"Generative Adversarial Nets\"](https://papers.nips.cc/paper/2014/file/5ca3e9b122f61f8f06494c97b1afccf3-Paper.pdf). In GANs two neural networks contest with each other in a zero-sum game, where one network gain is the other network's loss.\n",
    "\n",
    "Given a training set, the objective of the GAN is to learn how to generate new data with the same statistics as the training set. For example, a GAN trained on photographs can generate new photographs that look at least superficially authentic to human observers, having many realistic characteristics.\n",
    "\n",
    "This objective is achieved by using two networks, which are called **Generator** and **Discriminator**. The Generator is the network of the GAN which is tasked with generating new data similar to the training data starting from random noise, this with the objective to fool the discriminator with such new data. The task of a Discriminator is to classify an example and judge (discriminate) whether that data is authentic or if it was produced by the generator.\n",
    "\n",
    "\n",
    "![picture](https://drive.google.com/uc?id=14_jILkGp9tIBeFTwTnRvZOCSWh90kaeX)\n",
    "\n",
    "\n",
    "The core idea of GANs is based on the \"indirect\" training of the generator through the discriminator, which itself is also being updated dynamically; this enables the models to learn how to classify and to produce new data in an *unsupervised* manner."
   ]
  },
  {
   "cell_type": "markdown",
   "metadata": {
    "id": "MR6VIL6XaDsJ"
   },
   "source": [
    "# Nuova sezione"
   ]
  },
  {
   "cell_type": "markdown",
   "metadata": {
    "id": "A542wnDj5Sz2"
   },
   "source": [
    "In this exercise we will write a GAN with the task of generating and discriminating images from the MNIST dataset, a large database of handwritten digits commonly used for training various image processing systems.\n",
    "\n",
    "Let's start by importing all the necessary libraries."
   ]
  },
  {
   "cell_type": "code",
   "execution_count": 1,
   "metadata": {
    "id": "JtKFSbu4dHZF"
   },
   "outputs": [],
   "source": [
    "import numpy as np\n",
    "import matplotlib.pyplot as plt\n",
    "import torch\n",
    "import torch.nn as nn\n",
    "import torch.optim as optim\n",
    "from torch.autograd import Variable\n",
    "import pickle\n",
    "from torch.utils import data as t_data\n",
    "import torchvision.datasets as datasets  # Since we handle image data we'll need some functionalities of torchvision\n",
    "from torchvision import transforms"
   ]
  },
  {
   "cell_type": "markdown",
   "metadata": {
    "id": "KscDiTcodJeE"
   },
   "source": [
    "After the necessary imports, let's now load the dataset and write a DataLoader for it."
   ]
  },
  {
   "cell_type": "code",
   "execution_count": 2,
   "metadata": {
    "id": "C_1NDMlrdLUb"
   },
   "outputs": [
    {
     "name": "stdout",
     "output_type": "stream",
     "text": [
      "Downloading http://yann.lecun.com/exdb/mnist/train-images-idx3-ubyte.gz\n",
      "Downloading http://yann.lecun.com/exdb/mnist/train-labels-idx1-ubyte.gz\n",
      "Downloading http://yann.lecun.com/exdb/mnist/t10k-images-idx3-ubyte.gz\n",
      "Downloading http://yann.lecun.com/exdb/mnist/t10k-labels-idx1-ubyte.gz\n",
      "Processing...\n",
      "Done!\n"
     ]
    },
    {
     "name": "stderr",
     "output_type": "stream",
     "text": [
      "/Users/distiller/project/conda/conda-bld/pytorch_1591914925853/work/torch/csrc/utils/tensor_numpy.cpp:141: UserWarning: The given NumPy array is not writeable, and PyTorch does not support non-writeable tensors. This means you can write to the underlying (supposedly non-writeable) NumPy array using the tensor. You may want to copy the array to protect its data or make it writeable before converting it to a tensor. This type of warning will be suppressed for the rest of this program.\n"
     ]
    }
   ],
   "source": [
    "data_transforms = transforms.Compose([transforms.ToTensor()])  # Used to compose several transforms together\n",
    "\n",
    "mnist_trainset = datasets.MNIST(root='./data', train=True, download=True, transform=data_transforms)  # Importing the MNIST dataset\n",
    "\n",
    "batch_size=4\n",
    "\n",
    "# Dataloader for our dataset\n",
    "dataloader_mnist_train = t_data.DataLoader(mnist_trainset, \n",
    "                                           batch_size=batch_size,\n",
    "                                           shuffle=True\n",
    "                                           )"
   ]
  },
  {
   "cell_type": "markdown",
   "metadata": {
    "id": "cljH3WkvdRSR"
   },
   "source": [
    "Let's now write two helper functions:\n",
    "\n",
    "1.   *plot_img*, which will be used to plot 28x28 pixels images (belonging to the dataset or generated by the GAN);\n",
    "2.   *make_some_noise*, which will generate the random noise needed for the generator to work.\n"
   ]
  },
  {
   "cell_type": "code",
   "execution_count": 3,
   "metadata": {
    "id": "QaO0FAgSdRez"
   },
   "outputs": [],
   "source": [
    "# Plots 28x28 pixels images\n",
    "def plot_img(array,number=None):\n",
    "    array = array.detach()\n",
    "    array = array.reshape(28,28)\n",
    "    \n",
    "    plt.imshow(array,cmap='binary')\n",
    "    plt.xticks([])\n",
    "    plt.yticks([])\n",
    "    if number:\n",
    "        plt.xlabel(number,fontsize='x-large')\n",
    "    plt.show()\n",
    "\n",
    "# Generates random noise\n",
    "def make_some_noise():\n",
    "    return torch.rand(batch_size,100)"
   ]
  },
  {
   "cell_type": "markdown",
   "metadata": {
    "id": "Bo6WC-F4dSHY"
   },
   "source": [
    "Let's write a *generator* class and create an instance of the generator with **input size 100** and **output size 784** (28*28). For the generator we'll use a sequential model with the following architecture:\n",
    "\n",
    "![picture](https://drive.google.com/uc?id=1L7BhtEBJ17tfjtPaM3LXsKHSLCJjoXH_)"
   ]
  },
  {
   "cell_type": "code",
   "execution_count": 4,
   "metadata": {
    "id": "zl8tgsLrdVWf"
   },
   "outputs": [],
   "source": [
    "# Defining generator class\n",
    "class generator(nn.Module):\n",
    "    \n",
    "    # Generator architecture\n",
    "    def __init__(self, input_size, output_size):\n",
    "        \n",
    "        super(generator, self).__init__()\n",
    "        \n",
    "        self.net = nn.Sequential(\n",
    "                                 nn.Linear(input_size,300),\n",
    "                                 nn.ReLU(inplace=True),\n",
    "                                 nn.Linear(300,1000),\n",
    "                                 nn.ReLU(inplace=True),\n",
    "                                 nn.Linear(1000,800),\n",
    "                                 nn.ReLU(inplace=True),\n",
    "                                 nn.Linear(800,output_size)\n",
    "                                 )\n",
    "    \n",
    "    # Forward function\n",
    "    def forward(self, x):\n",
    "        x = self.net(x)\n",
    "        return x\n",
    "\n",
    "\n",
    "# Instantiating the generator\n",
    "gen = generator(100,784)"
   ]
  },
  {
   "cell_type": "markdown",
   "metadata": {
    "id": "3iz5aVqudWJa"
   },
   "source": [
    "Let's now write a *discriminator* class and create an instance of the discriminator with **input size 784** (which is the size of the images of both the dataset and the discriminator) and **output size 1**. Remember that the discriminator is a binary classifier, so it outputs only values between 0 and 1: values towards 0 denote an image classified as *fake*, while values towards 1 denote an image classified as *real*. For the discriminator we'll use a sequential model with the following architecture:\n",
    "\n",
    "![picture](https://drive.google.com/uc?id=1cdxrsoK_m40sqk4DGtMJox5F6F_RITrB)"
   ]
  },
  {
   "cell_type": "code",
   "execution_count": 5,
   "metadata": {
    "id": "luatiyNldWVM"
   },
   "outputs": [],
   "source": [
    "# Defining discriminator class\n",
    "class discriminator(nn.Module):\n",
    "    \n",
    "    def __init__(self, input_size, output_size):\n",
    "        \n",
    "        super(discriminator, self).__init__()\n",
    "        \n",
    "        self.net = nn.Sequential(\n",
    "                                 nn.Linear(input_size,300),\n",
    "                                 nn.ReLU(inplace=True),\n",
    "                                 nn.Linear(300,300),\n",
    "                                 nn.ReLU(inplace=True),\n",
    "                                 nn.Linear(300,200),\n",
    "                                 nn.ReLU(inplace=True),\n",
    "                                 nn.Linear(200,output_size),\n",
    "                                 nn.Sigmoid()\n",
    "                                 )\n",
    "\n",
    "    # Forward function\n",
    "    def forward(self, x):\n",
    "        x = self.net(x)\n",
    "        return x\n",
    "\n",
    "\n",
    "# Instantiating the discriminator\n",
    "dis = discriminator(784,1)"
   ]
  },
  {
   "cell_type": "markdown",
   "metadata": {
    "id": "FKzRasFydcyN"
   },
   "source": [
    "Since the discriminator has only to judge whether the image is real or not (by giving in output either 0 or 1) we can use BCE (Binary Cross-Entropy) as loss function of the GAN."
   ]
  },
  {
   "cell_type": "code",
   "execution_count": 6,
   "metadata": {
    "id": "SkCbTShUdc8b"
   },
   "outputs": [],
   "source": [
    "d_steps = 100  # Training steps done by the discriminator in each epoch \n",
    "g_steps = 100  # Training steps done by the generator in each epoch \n",
    "\n",
    "# Setting up two criterions for the discriminator: one will be used on real data, one on the generated data\n",
    "criteriond1 = nn.BCELoss()\n",
    "optimizerd1 = optim.SGD(dis.parameters(), lr=0.001, momentum=0.9)\n",
    "\n",
    "criteriond2 = nn.BCELoss()\n",
    "optimizerd2 = optim.SGD(gen.parameters(), lr=0.001, momentum=0.9)\n",
    "\n",
    "printing_steps = 200\n",
    "\n",
    "epochs = 50  # Training epoch"
   ]
  },
  {
   "cell_type": "markdown",
   "metadata": {
    "id": "EelW7Ba3dfmV"
   },
   "source": [
    "Let's now set up the training loop."
   ]
  },
  {
   "cell_type": "code",
   "execution_count": 10,
   "metadata": {
    "colab": {
     "base_uri": "https://localhost:8080/"
    },
    "id": "fIKBATaPdfvv",
    "outputId": "8d32124c-bccb-430c-db89-6301c6137533"
   },
   "outputs": [
    {
     "name": "stdout",
     "output_type": "stream",
     "text": [
      "0\n",
      "10\n",
      "20\n",
      "30\n",
      "40\n",
      "50\n",
      "60\n",
      "70\n",
      "80\n",
      "90\n"
     ]
    }
   ],
   "source": [
    "for epoch in range(100):\n",
    "    \n",
    "    if epoch%10==0:\n",
    "        print(epoch)\n",
    "\n",
    "    # Training the discriminator\n",
    "    for d_step in range(d_steps):\n",
    "        dis.zero_grad()  # Zeroing the gradient\n",
    "        \n",
    "        # Training the discriminator on real data\n",
    "        for inp_real,_ in dataloader_mnist_train:\n",
    "            inp_real_x = inp_real\n",
    "            break\n",
    "\n",
    "        inp_real_x = inp_real_x.reshape(4,784)\n",
    "        dis_real_out = dis(inp_real_x)\n",
    "        dis_real_loss = criteriond1(dis_real_out,Variable(torch.ones(batch_size,1)))\n",
    "        dis_real_loss.backward()\n",
    "\n",
    "        # Training discriminator on the data produced by the generator\n",
    "        inp_fake_x_gen = make_some_noise()\n",
    "        dis_inp_fake_x = gen(inp_fake_x_gen).detach() # Getting a generator output\n",
    "        dis_fake_out = dis(dis_inp_fake_x)\n",
    "        dis_fake_loss = criteriond1(dis_fake_out,Variable(torch.zeros(batch_size,1)))\n",
    "        dis_fake_loss.backward()\n",
    "\n",
    "        optimizerd1.step()  # Optimization step\n",
    "        \n",
    "            \n",
    "    # Training the generator\n",
    "    for g_step in range(g_steps):\n",
    "        gen.zero_grad()  # Zeroing the gradient\n",
    "        \n",
    "        # Generating input data for the generator\n",
    "        gen_inp = make_some_noise() # CODE HERE\n",
    "        \n",
    "        # The output of the generator (the generated image) is fed to the discriminator\n",
    "        gen_out = gen(gen_inp)# CODE HERE\n",
    "        dis_out_gen_training = dis(gen_out)# CODE HERE\n",
    "\n",
    "        # Criterion applied on the judgement given by the discriminator on the generated image\n",
    "        gen_loss = criteriond2(dis_out_gen_training,Variable(torch.ones(batch_size,1)))\n",
    "        gen_loss.backward()\n",
    "        \n",
    "        optimizerd2.step()  # Optimization step"
   ]
  },
  {
   "cell_type": "markdown",
   "metadata": {
    "id": "GddOhiS5dhs8"
   },
   "source": [
    "Now that we trained the GAN, let's generate both a fake image by giving some random noise to the generator and the label the discriminator has given to such image."
   ]
  },
  {
   "cell_type": "code",
   "execution_count": 11,
   "metadata": {
    "colab": {
     "base_uri": "https://localhost:8080/",
     "height": 270
    },
    "id": "67njuZQ5dk02",
    "outputId": "7a5da303-05ba-43a5-98fa-12f3f03c72e7"
   },
   "outputs": [
    {
     "data": {
      "image/png": "[encoded data removed]",
      "text/plain": [
       "<Figure size 432x288 with 1 Axes>"
      ]
     },
     "metadata": {},
     "output_type": "display_data"
    },
    {
     "name": "stdout",
     "output_type": "stream",
     "text": [
      "tensor([0.9767], grad_fn=<SigmoidBackward>)\n"
     ]
    }
   ],
   "source": [
    "noise1 = make_some_noise()\n",
    "t1 = gen(noise1)\n",
    "plot_img(t1[0])\n",
    "print(dis(t1[0]))"
   ]
  },
  {
   "cell_type": "code",
   "execution_count": null,
   "metadata": {},
   "outputs": [],
   "source": []
  }
 ],
 "metadata": {
  "colab": {
   "collapsed_sections": [],
   "name": "10_gans.ipynb",
   "provenance": []
  },
  "kernelspec": {
   "display_name": "Python 3",
   "language": "python",
   "name": "python3"
  },
  "language_info": {
   "codemirror_mode": {
    "name": "ipython",
    "version": 3
   },
   "file_extension": ".py",
   "mimetype": "text/x-python",
   "name": "python",
   "nbconvert_exporter": "python",
   "pygments_lexer": "ipython3",
   "version": "3.7.4"
  }
 },
 "nbformat": 4,
 "nbformat_minor": 1
}
